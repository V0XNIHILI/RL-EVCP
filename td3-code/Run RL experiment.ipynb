{
 "cells": [
  {
   "cell_type": "code",
   "execution_count": null,
   "id": "abe9399b",
   "metadata": {},
   "outputs": [],
   "source": [
    "from collections import defaultdict\n",
    "import matplotlib.pyplot as plt\n",
    "import numpy as np\n",
    "import os\n",
    "import sys\n",
    "\n",
    "path_to_this_notebook = os.path.abspath('.')\n",
    "path_to_project = path_to_this_notebook[:path_to_this_notebook.find('note')]\n",
    "sys.path.append(path_to_project)\n",
    "%load_ext autoreload\n",
    "%autoreload 2"
   ]
  },
  {
   "cell_type": "code",
   "execution_count": 2,
   "id": "0b90500c",
   "metadata": {},
   "outputs": [
    {
     "name": "stdout",
     "output_type": "stream",
     "text": [
      "USING DEVICE cpu\n"
     ]
    }
   ],
   "source": [
    "from src.problems.single_node_evcp.executors.greedy_executor import GreedyQuadraticExecutor\n",
    "from src.problems.single_node_evcp.executors.two_stage_executor import TwoStageExecutor\n",
    "from src.problems.single_node_evcp.data_samplers.load_samplers import load_samplers\n",
    "from src.problems.single_node_evcp.create_env import create_single_node_env\n",
    "\n",
    "from src.rl.agents.td3 import TD3Agent\n",
    "from src.rl.memory.trajectory_replay_buffer import TrajectoryMemoryBuffer\n",
    "from src.rl.memory.transition_replay_buffer import TransitionMemoryBuffer"
   ]
  },
  {
   "cell_type": "code",
   "execution_count": 3,
   "id": "958abe2a",
   "metadata": {},
   "outputs": [],
   "source": [
    "def get_rl_state(env):\n",
    "    p_lbs_t, p_ubs_t = env.get_power_bounds()\n",
    "    u_t = env.get_utility_coefficients()\n",
    "    s  = [float(env.t_hr)/24]\n",
    "    for d_ind in range(env.n_devices):\n",
    "        demand = 0\n",
    "        time_to_charge = 0\n",
    "        if env.devices[d_ind].type == 'ev_charger':\n",
    "            ev_ind  = env.devices[d_ind].info['current_episode_data'][env.t_str]\n",
    "            if ev_ind is None or np.isnan(ev_ind):\n",
    "                pass\n",
    "            else:\n",
    "                ev = env.devices[d_ind].info['current_episode_evs_dict'][ev_ind]\n",
    "                demand = env.devices[-1].info['current_episode_evs_dict'][0].free_space\n",
    "                time_to_charge = (env.devices[-1].info['current_episode_evs_dict'][0].t_dep_hr - env.t_hr)\n",
    "                time_to_charge = time_to_charge if time_to_charge >= 0 else time_to_charge + 24\n",
    "        s.extend((u_t[d_ind], p_lbs_t[d_ind]/10, p_ubs_t[d_ind]/10, demand/10, time_to_charge/24))\n",
    "    #print('state', np.round(s))\n",
    "    return np.array(s)"
   ]
  },
  {
   "cell_type": "code",
   "execution_count": 4,
   "id": "073ba385",
   "metadata": {},
   "outputs": [],
   "source": [
    "############################################# Config #############################################\n",
    "\n",
    "config = {'path_to_data': path_to_project + '/data/', \n",
    "          't0_hr': 6.,\n",
    "          'dt_min': 120,\n",
    "          'ev_dt_min': 120,\n",
    "          'ev_sampling_dt_min': 60, \n",
    "          'apply_gaussian_noise': False,\n",
    "          'ev_utility_coef_mean': 1,\n",
    "          'ev_utility_coef_scale': 0.13,\n",
    "          'days_per_month_train': 20,\n",
    "          'ev_session_months_train': ['01', '02', '03', '04', '06', '07', '08', '09', '10', '11',],\n",
    "          'ev_session_months_test': ['05', '12'],\n",
    "          'n_ps_pvs': 1,\n",
    "          'ps_pvs_rated_power': 15,\n",
    "          'n_canopy_pvs': 0,\n",
    "          'canopy_pv_rated_power': 250,\n",
    "          'n_loads': 0,\n",
    "          'n_feeders': 1,\n",
    "          'feeder_p_min': -3,\n",
    "          'n_ev_chargers': 5,\n",
    "          'avg_evs_per_day': 3.5,\n",
    "          }"
   ]
  },
  {
   "cell_type": "code",
   "execution_count": 5,
   "id": "2c450050",
   "metadata": {},
   "outputs": [],
   "source": [
    "# Preaload samplers, it is necessary to avoid re-reading data each time env is created\n",
    "(ps_samplers_dict, ps_metadata, canopy_sampler, canopy_metadata,\n",
    " price_sampler, price_metadata, ev_sampler, elaadnl_metadata) = load_samplers(config)"
   ]
  },
  {
   "cell_type": "code",
   "execution_count": 6,
   "id": "47cd9ac7",
   "metadata": {
    "scrolled": true
   },
   "outputs": [],
   "source": [
    "seed = 422\n",
    "env = create_single_node_env(config, ps_samplers_dict, ps_metadata, canopy_sampler, canopy_metadata,\n",
    "                             price_sampler, price_metadata, ev_sampler, elaadnl_metadata, seed=seed)"
   ]
  },
  {
   "cell_type": "code",
   "execution_count": 27,
   "id": "8a624135",
   "metadata": {},
   "outputs": [],
   "source": [
    "import time \n",
    "import torch\n",
    "\n",
    "DEVICE = torch.device(\"cuda\" if torch.cuda.is_available() else \"cpu\")\n",
    "\n",
    "def parse_sample_dict(sample_dict):\n",
    "    # state = sample_dict['state']\n",
    "    # state_next = sample_dict['state_next']\n",
    "    observations = sample_dict['observations']\n",
    "    observations_next = sample_dict['observations_next']\n",
    "    actions = sample_dict['actions']\n",
    "    dones = sample_dict['done']\n",
    "    reset_mask = sample_dict['reset_mask']\n",
    "    rewards = sample_dict['reward']\n",
    "    observations_extended = np.concatenate([observations, observations_next[:, -1:]], axis=1)\n",
    "    reset_mask_extended = np.concatenate([reset_mask, dones[:, -1:]], axis=1)\n",
    "    # state_extended = np.concatenate([state, state_next[:, -1:]], axis=1)\n",
    "    # state_extended = torch.tensor(state_extended, dtype=torch.float32).to(device)\n",
    "    observations_extended = torch.tensor(observations_extended, dtype=torch.float32).to(DEVICE)\n",
    "    actions = torch.tensor(actions,  dtype=torch.float32).to(DEVICE)\n",
    "    rewards = torch.tensor(rewards,  dtype=torch.float32).to(DEVICE)\n",
    "    dones = torch.tensor(dones,  dtype=torch.float32).to(DEVICE)\n",
    "    reset_mask_extended = torch.tensor(reset_mask_extended,  dtype=torch.float32).to(DEVICE)\n",
    "\n",
    "    return observations_extended, actions, rewards, dones, reset_mask_extended\n",
    "\n",
    "\n",
    "def run_episode(agent, memory, greedy_executor, env, episode_index, \n",
    "                use_train_data=True, train_agent=True, batch_size=16):\n",
    "    env.reset(episode_index=episode_index, train=use_train_data)\n",
    "    obs = get_rl_state(env)\n",
    "    hidden_state = agent.actor.get_initial_state(1)\n",
    "    done = False\n",
    "    reset_mask = True\n",
    "    episode_results = {'reward': 0, 'length': 0, 'env_time': 0, 'sampling_time': 0, 'training_time': 0, }\n",
    "    if train_agent:\n",
    "        memory.start_episode()\n",
    "\n",
    "    while not done:\n",
    "        action, hidden_state = agent.select_action(torch.tensor(obs).reshape((1, 1, -1)).float().to(DEVICE),\n",
    "                                                   hidden_state, noisy=train_agent, use_target=False)\n",
    "        action = action.cpu().detach().numpy().reshape(-1)\n",
    "        # print('a', action.round(2))\n",
    "        t = time.time()\n",
    "        params = {'alpha_linear': np.array(action[:env.n_devices]),  \n",
    "                  'alpha_square': np.array(action[env.n_devices:])}\n",
    "        greedy_executor.update_params(params)\n",
    "        p = greedy_executor.compute_solution(env)\n",
    "        result = env.step(p)\n",
    "        \n",
    "        obs_next = get_rl_state(env)\n",
    "        reward = result['reward']\n",
    "        done = bool(env.done)\n",
    "        episode_results['env_time'] += time.time() - t\n",
    "        episode_results['reward'] += float(reward)\n",
    "        episode_results['length'] += 1\n",
    "        \n",
    "        transition_dict = {'observations': obs.reshape(-1),\n",
    "                               'observations_next': obs_next.reshape(-1),\n",
    "                               'actions': action,\n",
    "                               'done': np.reshape(done, -1),\n",
    "                               'reward': np.reshape(reward, -1),\n",
    "                               'reset_mask': np.reshape(reset_mask, -1)}\n",
    "        if train_agent:\n",
    "            memory.observe_transition(transition_dict)\n",
    "            if done:\n",
    "                memory.finish_episode()\n",
    "        if train_agent and memory.can_sample:\n",
    "            t = time.time()\n",
    "            sample_dict = memory.sample_batch(batch_size)\n",
    "            (observations_extended, actions, rewards,\n",
    "            dones, reset_mask_extended) = parse_sample_dict(sample_dict)\n",
    "            episode_results['sampling_time'] += time.time() - t\n",
    "            t = time.time()\n",
    "            agent.train(observations_extended, actions, rewards, dones, reset_mask_extended)\n",
    "            episode_results['training_time'] += time.time() - t\n",
    "        obs = obs_next\n",
    "        reset_mask = bool(done)\n",
    "        \n",
    "    return episode_results"
   ]
  },
  {
   "cell_type": "code",
   "execution_count": 8,
   "id": "6c37acb1",
   "metadata": {},
   "outputs": [],
   "source": [
    "observation_dim = env.n_devices * 5 + 1\n",
    "action_dim =  env.n_devices * 2\n",
    "max_action_value = 3\n",
    "\n",
    "scheme = {'observations': observation_dim, \n",
    "          'observations_next': observation_dim,\n",
    "          'actions':action_dim,\n",
    "          'done': (1, ), 'reward': (1, ), 'reset_mask': (1, )}"
   ]
  },
  {
   "cell_type": "code",
   "execution_count": 35,
   "id": "46b18a5e",
   "metadata": {
    "scrolled": true
   },
   "outputs": [],
   "source": [
    "two_stage_executor = TwoStageExecutor()\n",
    "greedy_executor = GreedyQuadraticExecutor()\n",
    "\n",
    "memory_trans = TransitionMemoryBuffer(scheme=scheme, max_size=int(1e6), min_size_to_sample=512, \n",
    "                                      sample_during_episode=True)\n",
    "\n",
    "memory_traj = TrajectoryMemoryBuffer(scheme=scheme, max_size=int(1e6), min_size_to_sample=64, \n",
    "                                     sample_during_episode=True)\n",
    "lstm_dims_list = [64]\n",
    "hidden_dims_list = [256]\n",
    "\n",
    "agent = TD3Agent(observation_dim, action_dim, max_action_value, lstm_dims_list, hidden_dims_list,\n",
    "                 actor_lr=3e-4, critic_lr=3e-4,  discount=0.99, tau=0.005,\n",
    "                 policy_noise=0.35, noise_clip=.7, policy_update_freq=2)\n",
    "batch_size = 32"
   ]
  },
  {
   "cell_type": "code",
   "execution_count": 36,
   "id": "fe90dcc7",
   "metadata": {},
   "outputs": [],
   "source": [
    "training_episodes = np.arange(0, 9999999, 1)\n",
    "test_episodes = np.arange(0, 30, 1)"
   ]
  },
  {
   "cell_type": "code",
   "execution_count": null,
   "id": "a0152352",
   "metadata": {
    "scrolled": true
   },
   "outputs": [
    {
     "name": "stdout",
     "output_type": "stream",
     "text": [
      "Training episode 0    \n",
      "    reward=43.99\n",
      "\n",
      "Test run after episode 0:\n",
      "    reward=68.14\n",
      "\n",
      "Training episode 100    \n",
      "    reward=67.03\n",
      "\n"
     ]
    }
   ],
   "source": [
    "print_each = 100\n",
    "\n",
    "keys_to_print = ['reward']        \n",
    "test_each = 300\n",
    "\n",
    "test_results = defaultdict(list)\n",
    "train_results = defaultdict(list)\n",
    "\n",
    "for episode_index in training_episodes:\n",
    "    episode_results = run_episode(agent, memory_traj, greedy_executor, env, episode_index, \n",
    "                                  use_train_data=True, train_agent=True, batch_size=batch_size)\n",
    "    for key, val in episode_results.items():\n",
    "        train_results[key].append(val)\n",
    "        \n",
    "    if episode_index % print_each == 0:\n",
    "        print('Training episode %d    ' % episode_index)\n",
    "        for key in keys_to_print:\n",
    "            print('    %s=%.2f' % (key, np.mean(train_results[key][-print_each:])))\n",
    "        print()\n",
    "        \n",
    "    if episode_index % test_each == 0:\n",
    "        current_test_results = defaultdict(list)\n",
    "        for test_episode_index in test_episodes:\n",
    "            episode_results = run_episode(agent, memory_trans, greedy_executor, env, test_episode_index, \n",
    "                                      use_train_data=False, train_agent=False, batch_size=batch_size)\n",
    "            for key, val in episode_results.items():\n",
    "                current_test_results[key].append(val)\n",
    "        current_test_results = {key: np.mean(val) for key, val in current_test_results.items()}\n",
    "        print('Test run after episode %d:' % episode_index)\n",
    "        for key in keys_to_print:\n",
    "            print('    %s=%.2f' % (key, current_test_results[key]))\n",
    "            test_results[key].append(current_test_results[key])\n",
    "        print()"
   ]
  },
  {
   "cell_type": "code",
   "execution_count": 13,
   "id": "c3c77a23",
   "metadata": {},
   "outputs": [
    {
     "data": {
      "text/plain": [
       "[<matplotlib.lines.Line2D at 0x7ff5c72a7340>]"
      ]
     },
     "execution_count": 13,
     "metadata": {},
     "output_type": "execute_result"
    },
    {
     "data": {
      "image/png": "[encoded data removed]",
      "text/plain": [
       "<Figure size 432x288 with 1 Axes>"
      ]
     },
     "metadata": {
      "needs_background": "light"
     },
     "output_type": "display_data"
    }
   ],
   "source": [
    "plt.plot(test_results['reward'])"
   ]
  },
  {
   "cell_type": "code",
   "execution_count": 12,
   "id": "5621aa01",
   "metadata": {
    "scrolled": true
   },
   "outputs": [
    {
     "data": {
      "text/plain": [
       "[<matplotlib.lines.Line2D at 0x7ff5d689d670>]"
      ]
     },
     "execution_count": 12,
     "metadata": {},
     "output_type": "execute_result"
    },
    {
     "data": {
      "image/png": "[encoded data removed]",
      "text/plain": [
       "<Figure size 432x288 with 1 Axes>"
      ]
     },
     "metadata": {
      "needs_background": "light"
     },
     "output_type": "display_data"
    }
   ],
   "source": [
    "plt.plot(train_results['reward'])"
   ]
  },
  {
   "cell_type": "code",
   "execution_count": 31,
   "id": "7c035f4f",
   "metadata": {},
   "outputs": [
    {
     "data": {
      "text/plain": [
       "{'reward': 95.49760887865044,\n",
       " 'length': 11,\n",
       " 'env_time': 1.2162525653839111,\n",
       " 'sampling_time': 0,\n",
       " 'training_time': 0}"
      ]
     },
     "execution_count": 31,
     "metadata": {},
     "output_type": "execute_result"
    }
   ],
   "source": [
    "test_episode_index = 4\n",
    "episode_results = run_episode(agent, memory_trans, greedy_executor, env, test_episode_index,\n",
    "                              use_train_data=False, train_agent=False, batch_size=batch_size)\n",
    "episode_results"
   ]
  },
  {
   "cell_type": "code",
   "execution_count": 32,
   "id": "9a29884b",
   "metadata": {},
   "outputs": [
    {
     "name": "stdout",
     "output_type": "stream",
     "text": [
      "94.281255742231\n"
     ]
    }
   ],
   "source": [
    "    ep_reward = 0\n",
    "    env.reset(episode_index=test_episode_index, train=False)\n",
    "    params = {'alpha_linear': np.ones(env.n_devices), \n",
    "              'alpha_square': np.zeros(env.n_devices)}\n",
    "    greedy_executor.update_params(params)\n",
    "    while not env.done:\n",
    "        p = greedy_executor.compute_solution(env)\n",
    "        result_t = env.step(p)\n",
    "        ep_reward += result_t['reward']\n",
    "    print(ep_reward)"
   ]
  },
  {
   "cell_type": "code",
   "execution_count": 33,
   "id": "d9c261b0",
   "metadata": {},
   "outputs": [
    {
     "name": "stdout",
     "output_type": "stream",
     "text": [
      "97.83514346172937\n"
     ]
    }
   ],
   "source": [
    "    ep_reward = 0\n",
    "    env.reset(episode_index=test_episode_index, train=False)\n",
    "    evs_dict = env.get_all_evs_dict()\n",
    "    p_lbs, p_ubs, u = env.compute_full_state()\n",
    "    evs_dict = [evs_dict for _ in range(len(u))]\n",
    "    params = {'p_lbs': p_lbs, 'p_ubs': p_ubs, 'u': u, 'evs_dict': evs_dict}\n",
    "    two_stage_executor.update_params(params)\n",
    "    while not env.done:\n",
    "        p = two_stage_executor.compute_solution(env)\n",
    "        result_t = env.step(p)\n",
    "        ep_reward += result_t['reward']\n",
    "    print(ep_reward)"
   ]
  },
  {
   "cell_type": "code",
   "execution_count": 172,
   "id": "889d677a",
   "metadata": {},
   "outputs": [
    {
     "data": {
      "text/plain": [
       "[106.59499662775784,\n",
       " 106.59499662729449,\n",
       " 106.59499662741207,\n",
       " 106.59499662722673,\n",
       " 108.28374111182677,\n",
       " 108.28374111189964,\n",
       " 108.28374113851879,\n",
       " 108.6037736342767,\n",
       " 102.61031511400039,\n",
       " 102.61031511484263]"
      ]
     },
     "execution_count": 172,
     "metadata": {},
     "output_type": "execute_result"
    }
   ],
   "source": [
    "test_results['reward'][-10:]"
   ]
  },
  {
   "cell_type": "code",
   "execution_count": 170,
   "id": "f7d72ca5",
   "metadata": {},
   "outputs": [
    {
     "data": {
      "text/plain": [
       "[<matplotlib.lines.Line2D at 0x7f55299d4fd0>]"
      ]
     },
     "execution_count": 170,
     "metadata": {},
     "output_type": "execute_result"
    },
    {
     "data": {
      "image/png": "[encoded data removed]",
      "text/plain": [
       "<Figure size 432x288 with 1 Axes>"
      ]
     },
     "metadata": {
      "needs_background": "light"
     },
     "output_type": "display_data"
    }
   ],
   "source": [
    "plt.plot(train_results['reward'])"
   ]
  },
  {
   "cell_type": "code",
   "execution_count": null,
   "id": "a8d06aab",
   "metadata": {},
   "outputs": [],
   "source": []
  },
  {
   "cell_type": "code",
   "execution_count": null,
   "id": "8b2e63f9",
   "metadata": {},
   "outputs": [],
   "source": []
  },
  {
   "cell_type": "code",
   "execution_count": null,
   "id": "320ae84e",
   "metadata": {},
   "outputs": [],
   "source": []
  },
  {
   "cell_type": "code",
   "execution_count": null,
   "id": "2b3e0d12",
   "metadata": {},
   "outputs": [],
   "source": []
  },
  {
   "cell_type": "code",
   "execution_count": null,
   "id": "29ed26f7",
   "metadata": {},
   "outputs": [],
   "source": []
  },
  {
   "cell_type": "code",
   "execution_count": null,
   "id": "dd80e05a",
   "metadata": {},
   "outputs": [],
   "source": []
  },
  {
   "cell_type": "code",
   "execution_count": null,
   "id": "faf28a72",
   "metadata": {},
   "outputs": [],
   "source": []
  },
  {
   "cell_type": "code",
   "execution_count": null,
   "id": "6f1cf5b8",
   "metadata": {},
   "outputs": [],
   "source": []
  },
  {
   "cell_type": "code",
   "execution_count": null,
   "id": "06403c4b",
   "metadata": {},
   "outputs": [],
   "source": []
  },
  {
   "cell_type": "code",
   "execution_count": null,
   "id": "6fe11fd8",
   "metadata": {},
   "outputs": [],
   "source": []
  },
  {
   "cell_type": "code",
   "execution_count": null,
   "id": "9f3b5604",
   "metadata": {},
   "outputs": [],
   "source": []
  },
  {
   "cell_type": "code",
   "execution_count": null,
   "id": "c9dc227e",
   "metadata": {},
   "outputs": [],
   "source": []
  },
  {
   "cell_type": "code",
   "execution_count": null,
   "id": "42c9637f",
   "metadata": {},
   "outputs": [],
   "source": []
  },
  {
   "cell_type": "code",
   "execution_count": null,
   "id": "2ff65812",
   "metadata": {},
   "outputs": [],
   "source": []
  },
  {
   "cell_type": "code",
   "execution_count": null,
   "id": "18d9a6b6",
   "metadata": {},
   "outputs": [],
   "source": []
  },
  {
   "cell_type": "code",
   "execution_count": null,
   "id": "4f86e765",
   "metadata": {},
   "outputs": [],
   "source": []
  },
  {
   "cell_type": "code",
   "execution_count": null,
   "id": "19cd0099",
   "metadata": {},
   "outputs": [],
   "source": []
  },
  {
   "cell_type": "code",
   "execution_count": 7,
   "id": "8d9e219d",
   "metadata": {},
   "outputs": [],
   "source": [
    "import time \n",
    "\n",
    "def run_training_episode(env, agent, episode_index, is_warmup, use_train=True, seed=None):\n",
    "    agent.is_training = True\n",
    "    if seed is not None:\n",
    "        np.random.seed(seed)\n",
    "    env.reset(episode_index=episode_index, train=use_train)\n",
    "    if seed is not None:\n",
    "        np.random.seed(int(1000 * time.time()) % 2**32)\n",
    "    state = get_rl_state(env)\n",
    "    agent.reset(state)\n",
    "    ep_reward = 0\n",
    "    while not env.done:\n",
    "        # Choose action\n",
    "        if is_warmup:\n",
    "            action = agent.random_action()\n",
    "        else:\n",
    "            action = agent.select_action(state)\n",
    "        # Run action\n",
    "        params = {'alpha_linear': np.array(action[:env.n_devices]),  \n",
    "                  'alpha_square': np.array(action[env.n_devices:])}\n",
    "        greedy_executor.update_params(params)\n",
    "        p = greedy_executor.compute_solution(env)\n",
    "        result = env.step(p)\n",
    "        # Process transition\n",
    "        next_state = get_rl_state(env)\n",
    "        reward = result['reward']\n",
    "        done = bool(env.done)\n",
    "        agent.observe(reward, next_state, done)      \n",
    "        if not is_warmup:\n",
    "            agent.update_policy()\n",
    "        # Save result\n",
    "        ep_reward += reward\n",
    "        state = next_state\n",
    "    agent.memory.append(state, agent.select_action(state), 0., False)\n",
    "    return ep_reward\n",
    "\n",
    "def run_test_episode(env, agent, episode_index, use_train=True, seed=None):\n",
    "    agent.is_training = False\n",
    "    if seed is not None:\n",
    "        np.random.seed(seed)\n",
    "    env.reset(episode_index=episode_index, train=use_train)\n",
    "    if seed is not None:\n",
    "        np.random.seed(int(1000 * time.time()) % 2**32)\n",
    "    state = get_rl_state(env)\n",
    "    agent.reset(state)\n",
    "    ep_reward = 0\n",
    "    while not env.done:\n",
    "        # Choose action\n",
    "        action = agent.select_action(state)\n",
    "        # Run action\n",
    "        params = {'alpha_linear': np.array(action[:env.n_devices]),  \n",
    "                  'alpha_square': np.array(action[env.n_devices:])}\n",
    "        greedy_executor.update_params(params)\n",
    "        p = greedy_executor.compute_solution(env)\n",
    "        result = env.step(p)\n",
    "        # Process transition\n",
    "        next_state = get_rl_state(env)\n",
    "        reward = result['reward']\n",
    "        # Save result\n",
    "        ep_reward += reward\n",
    "        state = next_state\n",
    "\n",
    "    return ep_reward\n",
    "\n",
    "\n",
    "def run_greedy_executor(env, greedy_executor, episode_index, use_train=True, seed=None):\n",
    "    ep_reward = 0\n",
    "    if seed is not None:\n",
    "        np.random.seed(seed)\n",
    "    env.reset(episode_index=episode_index, train=use_train)\n",
    "    params = {'alpha_linear': np.ones(env.n_devices), \n",
    "              'alpha_square': np.zeros(env.n_devices)}\n",
    "    greedy_executor.update_params(params)\n",
    "    while not env.done:\n",
    "        p = greedy_executor.compute_solution(env)\n",
    "        result_t = env.step(p)\n",
    "        ep_reward += result_t['reward']\n",
    "    return ep_reward\n",
    "\n",
    "\n",
    "def run_two_stage_executor(env, two_stage_executor, episode_index, use_train=True, seed=None):\n",
    "    ep_reward = 0\n",
    "    if seed is not None:\n",
    "        np.random.seed(seed)\n",
    "    env.reset(episode_index=episode_index, train=use_train)\n",
    "    evs_dict = env.get_all_evs_dict()\n",
    "    p_lbs, p_ubs, u = env.compute_full_state()\n",
    "    evs_dict = [evs_dict for _ in range(len(u))]\n",
    "    params = {'p_lbs': p_lbs, 'p_ubs': p_ubs, 'u': u, 'evs_dict': evs_dict}\n",
    "    two_stage_executor.update_params(params)\n",
    "    while not env.done:\n",
    "        p = two_stage_executor.compute_solution(env)\n",
    "        result_t = env.step(p)\n",
    "        ep_reward += result_t['reward']\n",
    "    return ep_reward"
   ]
  },
  {
   "cell_type": "code",
   "execution_count": 8,
   "id": "d78c6b03",
   "metadata": {},
   "outputs": [],
   "source": [
    "def plot_results(env, results_list, figsize=(12, 7)):\n",
    "    plt.figure(figsize=figsize)\n",
    "    plt.subplot(121)\n",
    "    # i_violations = [res['i_constraints_violation'] for res in results_list]\n",
    "    p_violations = [res['power_flow_constraints_violation'] for res in results_list]\n",
    "    # plt.plot(env.timesteps_str[:-1], i_violations, label='i_violation')\n",
    "    plt.plot(env.timesteps_str[:-1], p_violations, label='p_violation')\n",
    "    _ = plt.xticks(env.timesteps_str[::6])\n",
    "    _ = plt.legend()\n",
    "    _ = plt.title('Constraint violations')\n",
    "\n",
    "    plt.subplot(122)\n",
    "    rewards = [res['reward'] for res in results_list]\n",
    "    feeders_price = [res['feeders_power_price'] for res in results_list]\n",
    "    pvs_price = [res['pvs_power_price'] for res in results_list]\n",
    "    evs_welfare = [res['evs_social_welfare'] for res in results_list]\n",
    "\n",
    "    plt.plot(env.timesteps_str[:-1], rewards, label='total reward')\n",
    "    plt.plot(env.timesteps_str[:-1], feeders_price, label='feeders price')\n",
    "    plt.plot(env.timesteps_str[:-1], pvs_price, label='PVs price')\n",
    "    plt.plot(env.timesteps_str[:-1], evs_welfare, label='EVs welfare')\n",
    "    _ = plt.xticks(env.timesteps_str[::6])\n",
    "    _ = plt.legend()\n",
    "    _ = plt.title('Objective')"
   ]
  },
  {
   "cell_type": "code",
   "execution_count": 9,
   "id": "4d19b98b",
   "metadata": {},
   "outputs": [],
   "source": [
    "def create_agent():\n",
    "    agent = DDPG(env.n_devices * 5 + 1, env.n_devices * 2, hidden1=128, hidden2=128, init_w=1e-3,\n",
    "              rmsize=int(1e6), window_length=1, bsize=256, tau=1e-2, epsilon=20000,\n",
    "              ou_theta=0.1, ou_mu=0, ou_sigma=.55)\n",
    "    return agent\n",
    "\n",
    "training_episodes = np.arange(0, 1000000, 1)\n",
    "#training_episodes = np.arange(0, 1)\n",
    "# training_episodes = [0]\n",
    "test_episodes = np.arange(15)\n",
    "#test_episodes = [0]\n",
    "seed = 7225\n",
    "use_train_for_test = False"
   ]
  },
  {
   "cell_type": "code",
   "execution_count": 10,
   "id": "bab7a4e3",
   "metadata": {},
   "outputs": [],
   "source": [
    "env = create_single_node_env(config, ps_samplers_dict, ps_metadata, canopy_sampler, canopy_metadata,\n",
    "                             price_sampler, price_metadata, ev_sampler, elaadnl_metadata)"
   ]
  },
  {
   "cell_type": "code",
   "execution_count": 14,
   "id": "5567ccbb",
   "metadata": {},
   "outputs": [],
   "source": [
    "from src.rl.ddpg.ddpg import DDPG\n",
    "greedy_executor = GreedyQuadraticExecutor()\n",
    "two_stage_executor = TwoStageExecutor()\n",
    "agent = create_agent()"
   ]
  },
  {
   "cell_type": "code",
   "execution_count": 15,
   "id": "ec876041",
   "metadata": {},
   "outputs": [
    {
     "name": "stdout",
     "output_type": "stream",
     "text": [
      "77.75226361930537\n",
      "89.22964295729088\n"
     ]
    }
   ],
   "source": [
    "test_results_greedy = []\n",
    "test_results_twostage = []\n",
    "for episode_index in test_episodes:\n",
    "    ep_reward_greedy = run_greedy_executor(env, greedy_executor, episode_index, use_train_for_test, seed)\n",
    "    ep_reward_twostage = run_two_stage_executor(env, two_stage_executor, episode_index, use_train_for_test, seed)\n",
    "    test_results_greedy.append(ep_reward_greedy)\n",
    "    test_results_twostage.append(ep_reward_twostage)\n",
    "print(np.mean(test_results_greedy))\n",
    "print(np.mean(test_results_twostage))"
   ]
  },
  {
   "cell_type": "code",
   "execution_count": 16,
   "id": "c47d5f17",
   "metadata": {
    "scrolled": true
   },
   "outputs": [
    {
     "name": "stdout",
     "output_type": "stream",
     "text": [
      "Test result after epoch 0: 46.50 / 77.75 / 89.23\n",
      "Test result after epoch 250: 46.50 / 77.75 / 89.23\n",
      "Test result after epoch 500: 44.78 / 77.75 / 89.23\n",
      "Test result after epoch 750: 77.60 / 77.75 / 89.23\n",
      "Test result after epoch 1000: 73.68 / 77.75 / 89.23\n",
      "Test result after epoch 1250: 82.24 / 77.75 / 89.23\n",
      "Test result after epoch 1500: 82.08 / 77.75 / 89.23\n",
      "Test result after epoch 1750: 77.53 / 77.75 / 89.23\n",
      "Test result after epoch 2000: 82.89 / 77.75 / 89.23\n",
      "Test result after epoch 2250: 82.89 / 77.75 / 89.23\n",
      "Test result after epoch 2500: 82.89 / 77.75 / 89.23\n",
      "Test result after epoch 2750: 82.89 / 77.75 / 89.23\n",
      "Test result after epoch 3000: 82.89 / 77.75 / 89.23\n",
      "Test result after epoch 3250: 82.89 / 77.75 / 89.23\n",
      "Test result after epoch 3500: 82.89 / 77.75 / 89.23\n",
      "Test result after epoch 3750: 82.89 / 77.75 / 89.23\n",
      "Test result after epoch 4000: 82.89 / 77.75 / 89.23\n",
      "Test result after epoch 4250: 82.89 / 77.75 / 89.23\n",
      "Test result after epoch 4500: 82.89 / 77.75 / 89.23\n",
      "Test result after epoch 4750: 82.89 / 77.75 / 89.23\n",
      "Test result after epoch 5000: 82.89 / 77.75 / 89.23\n"
     ]
    },
    {
     "name": "stderr",
     "output_type": "stream",
     "text": [
      "\n",
      "KeyboardInterrupt\n",
      "\n"
     ]
    }
   ],
   "source": [
    "warmup_episodes = 500\n",
    "test_every = 250\n",
    "\n",
    "training_rewards = []\n",
    "test_rewards = []\n",
    "\n",
    "for training_epoch in range(0, 100000):\n",
    "    episode_index = np.random.choice(training_episodes)\n",
    "    is_warmup = training_epoch < warmup_episodes\n",
    "    ep_reward = run_training_episode(env, agent, episode_index, is_warmup, use_train=True, seed=seed)\n",
    "    # print(episode_index, 'R=%.2f' % ep_reward)\n",
    "    if training_epoch % test_every == 0:\n",
    "        test_results = []\n",
    "        for episode_index in test_episodes:\n",
    "            ep_reward = run_test_episode(env, agent, episode_index, use_train=use_train_for_test, seed=seed)\n",
    "            test_results.append(ep_reward)\n",
    "        print('Test result after epoch %d: %.2f / %.2f / %.2f' % (training_epoch, \n",
    "                                                                  np.mean(test_results), \n",
    "                                                                  np.mean(test_results_greedy), \n",
    "                                                                  np.mean(test_results_twostage)))\n",
    "        test_rewards.append(np.mean(test_results))\n",
    "    training_rewards.append(ep_reward)"
   ]
  },
  {
   "cell_type": "code",
   "execution_count": 17,
   "id": "f6e6991c",
   "metadata": {},
   "outputs": [
    {
     "name": "stdout",
     "output_type": "stream",
     "text": [
      "73.88042475349724\n",
      "85.74845167246544\n"
     ]
    }
   ],
   "source": [
    "use_train_for_test = True\n",
    "test_results_greedy = []\n",
    "test_results_twostage = []\n",
    "for episode_index in test_episodes:\n",
    "    ep_reward_greedy = run_greedy_executor(env, greedy_executor, episode_index, use_train_for_test, seed)\n",
    "    ep_reward_twostage = run_two_stage_executor(env, two_stage_executor, episode_index, use_train_for_test, seed)\n",
    "    test_results_greedy.append(ep_reward_greedy)\n",
    "    test_results_twostage.append(ep_reward_twostage)\n",
    "print(np.mean(test_results_greedy))\n",
    "print(np.mean(test_results_twostage))"
   ]
  }
 ],
 "metadata": {
  "kernelspec": {
   "display_name": "Python 3 (ipykernel)",
   "language": "python",
   "name": "python3"
  },
  "language_info": {
   "codemirror_mode": {
    "name": "ipython",
    "version": 3
   },
   "file_extension": ".py",
   "mimetype": "text/x-python",
   "name": "python",
   "nbconvert_exporter": "python",
   "pygments_lexer": "ipython3",
   "version": "3.7.9"
  }
 },
 "nbformat": 4,
 "nbformat_minor": 5
}
