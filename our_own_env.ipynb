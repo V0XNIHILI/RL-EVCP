{
 "cells": [
  {
   "cell_type": "code",
   "execution_count": 1,
   "metadata": {},
   "outputs": [],
   "source": [
    "import os, sys\n",
    "\n",
    "import gym, ray\n",
    "from ray import tune\n",
    "from ray.rllib.agents import ppo, ddpg\n",
    "from ray.tune import register_env\n",
    "\n",
    "from src.environments.create_env import create_env\n",
    "from src.environments.gym_power_voltage_env import GymPowerVoltageEnv\n",
    "from src.samplers.load_samplers import load_samplers\n",
    "\n",
    "import torch as th"
   ]
  },
  {
   "cell_type": "code",
   "execution_count": 6,
   "metadata": {},
   "outputs": [],
   "source": [
    "config = {'path_to_data':   'data/',\n",
    "          't0_hr': 6.,  # When the episode start (default value 6AM)\n",
    "          'dt_min': 30,  # Timestep size\n",
    "          'ev_dt_min': 60,  # Timestep size for EV arrivals\n",
    "          'ev_sampling_dt_min': 60,  # How EV sessions are sampled from the data\n",
    "          'apply_gaussian_noise': False,  # Make data noisy\n",
    "          'ev_utility_coef_mean': 1,  # Mean value of the utility coefficient for the EVs\n",
    "          'ev_utility_coef_scale': 0.13,  # STD of the utility coefficient for the EVs\n",
    "          'days_per_month_train': 20,  # Days per month for training\n",
    "          'ev_session_months_train': ['01', '02', '03', '04', '06', '07', '08', '09', '10', '11', ],\n",
    "          # Months to sample EV sessions for training\n",
    "          'grid_to_use': 'ieee16',  # What grid topology to use. Now supports only IEEE16.\n",
    "          'ev_session_months_test': ['05', '12'],  # Months to sample EV sessions for test\n",
    "          'n_ps_pvs': 4,  # Amount of solar panels that use PecanStreet data\n",
    "          'n_canopy_pvs': 0,  # Amount of solar panels that use canopy data\n",
    "          'canopy_pv_rated_power': 250,  # Rated power of these panels\n",
    "          'n_loads': 0,  # Amount of inflexible loads\n",
    "          'n_feeders': 1,  # Amount of feeders\n",
    "          'n_ev_chargers': 4,  # Amount of EV chargers\n",
    "\n",
    "          'ps_pvs_rated_power': 4,  # Rated power of these panels\n",
    "          'avg_evs_per_day': 3.5,  # Scaling of the EV arrival rate\n",
    "          'feeder_p_min': -5,  # Capacity of the feeders\n",
    "          'g': 4,  # Conductance of each line\n",
    "          'i_max': 25,  # Capacity of each line\n",
    "\n",
    "          'environment_type': 'gym',\n",
    "\n",
    "          'dataset_max_size': 1,\n",
    "          'split_train_test': False,\n",
    "\n",
    "          }\n"
   ]
  },
  {
   "cell_type": "code",
   "execution_count": 3,
   "metadata": {},
   "outputs": [],
   "source": [
    "def env_creator(a):\n",
    "    # Preload samplers, it is necessary to avoid re-loading data each time env is created\n",
    "    (ps_samplers_dict, ps_metadata, canopy_sampler, canopy_metadata,\n",
    "     price_sampler, price_metadata, ev_sampler, elaadnl_metadata) = load_samplers(config)\n",
    "\n",
    "    return create_env(\n",
    "        config,\n",
    "        ps_samplers_dict,\n",
    "        ps_metadata,\n",
    "        canopy_sampler,\n",
    "        canopy_metadata,\n",
    "        price_sampler,\n",
    "        price_metadata,\n",
    "        ev_sampler,\n",
    "        elaadnl_metadata\n",
    "    )  # return an env instance\n",
    "\n",
    "\n",
    "# Read this on how to run our own environments\n",
    "# https://docs.ray.io/en/latest/rllib/rllib-env.html\n",
    "\n",
    "ray.init()\n",
    "register_env(\"my_env\", env_creator)"
   ]
  },
  {
   "cell_type": "code",
   "execution_count": 3,
   "metadata": {},
   "outputs": [
    {
     "name": "stdout",
     "output_type": "stream",
     "text": [
      "True\n"
     ]
    }
   ],
   "source": [
    "print(th.cuda.is_available())"
   ]
  },
  {
   "cell_type": "code",
   "execution_count": 7,
   "outputs": [
    {
     "name": "stdout",
     "output_type": "stream",
     "text": [
      "\u001B[2m\u001B[36m(RolloutWorker pid=22196)\u001B[0m {'path_to_data': 'data/', 't0_hr': 6.0, 'dt_min': 30, 'ev_dt_min': 60, 'ev_sampling_dt_min': 60, 'apply_gaussian_noise': False, 'ev_utility_coef_mean': 1, 'ev_utility_coef_scale': 0.13, 'days_per_month_train': 20, 'ev_session_months_train': ['01', '02', '03', '04', '06', '07', '08', '09', '10', '11'], 'grid_to_use': 'ieee16', 'ev_session_months_test': ['05', '12'], 'n_ps_pvs': 4, 'n_canopy_pvs': 0, 'canopy_pv_rated_power': 250, 'n_loads': 0, 'n_feeders': 1, 'n_ev_chargers': 4, 'ps_pvs_rated_power': 4, 'avg_evs_per_day': 3.5, 'feeder_p_min': -5, 'g': 4, 'i_max': 25, 'environment_type': 'gym', 'dataset_max_size': 1, 'split_train_test': False}\n",
      "\u001B[2m\u001B[36m(RolloutWorker pid=22196)\u001B[0m loading pecanstreet\n",
      "\u001B[2m\u001B[36m(RolloutWorker pid=22196)\u001B[0m loading pvdata\n",
      "\u001B[2m\u001B[36m(RolloutWorker pid=22196)\u001B[0m loading elaadnl\n",
      "\u001B[2m\u001B[36m(RolloutWorker pid=22196)\u001B[0m loading newyork_price\n"
     ]
    },
    {
     "name": "stderr",
     "output_type": "stream",
     "text": [
      "\u001B[2m\u001B[36m(RolloutWorker pid=22196)\u001B[0m 2022-05-25 17:42:49,126\tWARNING rollout_worker.py:498 -- We've added a module for checking environments that are used in experiments. It will cause your environment to fail if your environment is not set upcorrectly. You can disable check env by setting `disable_env_checking` to True in your experiment config dictionary. You can run the environment checking module standalone by calling ray.rllib.utils.check_env(env).\n",
      "\u001B[2m\u001B[36m(RolloutWorker pid=22196)\u001B[0m 2022-05-25 17:42:49,127\tWARNING env.py:120 -- Your env doesn't have a .spec.max_episode_steps attribute. This is fine if you have set 'horizon' in your config dictionary, or `soft_horizon`. However, if you haven't, 'horizon' will default to infinity, and your environment will not be reset.\n",
      "2022-05-25 17:42:49,401\tINFO trainable.py:152 -- Trainable.setup took 158.181 seconds. If your trainable is slow to initialize, consider setting reuse_actors=True to reduce actor creation overheads.\n"
     ]
    },
    {
     "name": "stdout",
     "output_type": "stream",
     "text": [
      "\u001B[2m\u001B[36m(RolloutWorker pid=22196)\u001B[0m Reseting episode to index: 0\n",
      "\u001B[2m\u001B[36m(RolloutWorker pid=22196)\u001B[0m Reseting episode to index: 0\n",
      "\u001B[2m\u001B[36m(RolloutWorker pid=22196)\u001B[0m Reseting episode to index: 0\n",
      "\u001B[2m\u001B[36m(RolloutWorker pid=22196)\u001B[0m Reseting episode to index: 0\n",
      "\u001B[2m\u001B[36m(RolloutWorker pid=22196)\u001B[0m Reseting episode to index: 0\n",
      "\u001B[2m\u001B[36m(RolloutWorker pid=22196)\u001B[0m Reseting episode to index: 0\n",
      "\u001B[2m\u001B[36m(RolloutWorker pid=22196)\u001B[0m Reseting episode to index: 0\n",
      "\u001B[2m\u001B[36m(RolloutWorker pid=22196)\u001B[0m Reseting episode to index: 0\n",
      "\u001B[2m\u001B[36m(RolloutWorker pid=22196)\u001B[0m Reseting episode to index: 0\n"
     ]
    },
    {
     "name": "stderr",
     "output_type": "stream",
     "text": [
      "2022-05-25 17:42:49,404\tWARNING util.py:60 -- Install gputil for GPU system monitoring.\n"
     ]
    },
    {
     "ename": "TypeError",
     "evalue": "train() got an unexpected keyword argument 'reuse_actors'",
     "output_type": "error",
     "traceback": [
      "\u001B[1;31m---------------------------------------------------------------------------\u001B[0m",
      "\u001B[1;31mTypeError\u001B[0m                                 Traceback (most recent call last)",
      "Input \u001B[1;32mIn [7]\u001B[0m, in \u001B[0;36m<cell line: 19>\u001B[1;34m()\u001B[0m\n\u001B[0;32m      1\u001B[0m trainer \u001B[38;5;241m=\u001B[39m ddpg\u001B[38;5;241m.\u001B[39mDDPGTrainer(\n\u001B[0;32m      2\u001B[0m     env\u001B[38;5;241m=\u001B[39m\u001B[38;5;124m\"\u001B[39m\u001B[38;5;124mmy_env\u001B[39m\u001B[38;5;124m\"\u001B[39m,\n\u001B[0;32m      3\u001B[0m     \u001B[38;5;66;03m# Stopping condition\u001B[39;00m\n\u001B[1;32m   (...)\u001B[0m\n\u001B[0;32m     16\u001B[0m     \u001B[38;5;66;03m# checkpoint_freq=1\u001B[39;00m\n\u001B[0;32m     17\u001B[0m )\n\u001B[1;32m---> 19\u001B[0m \u001B[43mtrainer\u001B[49m\u001B[38;5;241;43m.\u001B[39;49m\u001B[43mtrain\u001B[49m\u001B[43m(\u001B[49m\u001B[43mreuse_actors\u001B[49m\u001B[38;5;241;43m=\u001B[39;49m\u001B[38;5;28;43;01mTrue\u001B[39;49;00m\u001B[43m)\u001B[49m\n",
      "\u001B[1;31mTypeError\u001B[0m: train() got an unexpected keyword argument 'reuse_actors'"
     ]
    }
   ],
   "source": [
    "trainer = ddpg.DDPGTrainer(\n",
    "    env=\"my_env\",\n",
    "    # Stopping condition\n",
    "    # stop={\"episode_reward_mean\":200},\n",
    "\n",
    "    # Config\n",
    "    # The default DDPG specific config is used with required \n",
    "    # Options for the config are in the default DDPG config: \n",
    "    # https://docs.ray.io/en/latest/rllib/rllib-algorithms.html#ddpg\n",
    "    config={\n",
    "        \"env\": \"my_env\",\n",
    "        \"framework\": \"torch\",\n",
    "        \"num_gpus\":1,\n",
    "        \"num_workers\":1,\n",
    "    },\n",
    "    # checkpoint_freq=1\n",
    ")\n",
    "\n",
    "trainer.train()\n",
    "\n",
    "# trainer = ppo.PPOTrainer(env=\"my_env\", config={\n",
    "#     \"env_config\": config,  # config to pass to env class\n",
    "#     \"framework\": \"torch\",\n",
    "# })\n",
    "\n",
    "# while True:\n",
    "#     print(trainer.train())\n"
   ],
   "metadata": {
    "collapsed": false,
    "pycharm": {
     "name": "#%%\n"
    }
   }
  },
  {
   "cell_type": "code",
   "execution_count": 11,
   "metadata": {},
   "outputs": [
    {
     "ename": "StopIteration",
     "evalue": "",
     "output_type": "error",
     "traceback": [
      "\u001B[1;31m---------------------------------------------------------------------------\u001B[0m",
      "\u001B[1;31mStopIteration\u001B[0m                             Traceback (most recent call last)",
      "Input \u001B[1;32mIn [11]\u001B[0m, in \u001B[0;36m<cell line: 3>\u001B[1;34m()\u001B[0m\n\u001B[0;32m      1\u001B[0m \u001B[38;5;28;01mfrom\u001B[39;00m \u001B[38;5;21;01mray\u001B[39;00m\u001B[38;5;21;01m.\u001B[39;00m\u001B[38;5;21;01mtune\u001B[39;00m\u001B[38;5;21;01m.\u001B[39;00m\u001B[38;5;21;01mlogger\u001B[39;00m \u001B[38;5;28;01mimport\u001B[39;00m pretty_print\n\u001B[0;32m      3\u001B[0m \u001B[38;5;28;01mfor\u001B[39;00m i \u001B[38;5;129;01min\u001B[39;00m \u001B[38;5;28mrange\u001B[39m(\u001B[38;5;241m100\u001B[39m):\n\u001B[1;32m----> 4\u001B[0m     result \u001B[38;5;241m=\u001B[39m \u001B[43mtrainer\u001B[49m\u001B[38;5;241;43m.\u001B[39;49m\u001B[43mtrain\u001B[49m\u001B[43m(\u001B[49m\u001B[43m)\u001B[49m\n\u001B[0;32m      5\u001B[0m     \u001B[38;5;66;03m# print(pretty_print(result))\u001B[39;00m\n\u001B[0;32m      7\u001B[0m     \u001B[38;5;28mprint\u001B[39m(i)\n",
      "File \u001B[1;32m~\\.conda\\envs\\RL-EVCP\\lib\\site-packages\\ray\\tune\\trainable.py:349\u001B[0m, in \u001B[0;36mTrainable.train\u001B[1;34m(self)\u001B[0m\n\u001B[0;32m    347\u001B[0m     \u001B[38;5;28mself\u001B[39m\u001B[38;5;241m.\u001B[39m_warmup_time \u001B[38;5;241m=\u001B[39m time\u001B[38;5;241m.\u001B[39mtime() \u001B[38;5;241m-\u001B[39m \u001B[38;5;28mself\u001B[39m\u001B[38;5;241m.\u001B[39m_start_time\n\u001B[0;32m    348\u001B[0m start \u001B[38;5;241m=\u001B[39m time\u001B[38;5;241m.\u001B[39mtime()\n\u001B[1;32m--> 349\u001B[0m result \u001B[38;5;241m=\u001B[39m \u001B[38;5;28;43mself\u001B[39;49m\u001B[38;5;241;43m.\u001B[39;49m\u001B[43mstep\u001B[49m\u001B[43m(\u001B[49m\u001B[43m)\u001B[49m\n\u001B[0;32m    350\u001B[0m \u001B[38;5;28;01massert\u001B[39;00m \u001B[38;5;28misinstance\u001B[39m(result, \u001B[38;5;28mdict\u001B[39m), \u001B[38;5;124m\"\u001B[39m\u001B[38;5;124mstep() needs to return a dict.\u001B[39m\u001B[38;5;124m\"\u001B[39m\n\u001B[0;32m    352\u001B[0m \u001B[38;5;66;03m# We do not modify internal state nor update this result if duplicate.\u001B[39;00m\n",
      "File \u001B[1;32m~\\.conda\\envs\\RL-EVCP\\lib\\site-packages\\ray\\rllib\\agents\\trainer.py:1093\u001B[0m, in \u001B[0;36mTrainer.step\u001B[1;34m(self)\u001B[0m\n\u001B[0;32m   1090\u001B[0m         \u001B[38;5;28;01mexcept\u001B[39;00m \u001B[38;5;167;01mException\u001B[39;00m \u001B[38;5;28;01mas\u001B[39;00m e:\n\u001B[0;32m   1091\u001B[0m             \u001B[38;5;66;03m# Allow logs messages to propagate.\u001B[39;00m\n\u001B[0;32m   1092\u001B[0m             time\u001B[38;5;241m.\u001B[39msleep(\u001B[38;5;241m0.5\u001B[39m)\n\u001B[1;32m-> 1093\u001B[0m             \u001B[38;5;28;01mraise\u001B[39;00m e\n\u001B[0;32m   1095\u001B[0m result \u001B[38;5;241m=\u001B[39m step_attempt_results\n\u001B[0;32m   1097\u001B[0m \u001B[38;5;28;01mif\u001B[39;00m \u001B[38;5;28mhasattr\u001B[39m(\u001B[38;5;28mself\u001B[39m, \u001B[38;5;124m\"\u001B[39m\u001B[38;5;124mworkers\u001B[39m\u001B[38;5;124m\"\u001B[39m) \u001B[38;5;129;01mand\u001B[39;00m \u001B[38;5;28misinstance\u001B[39m(\u001B[38;5;28mself\u001B[39m\u001B[38;5;241m.\u001B[39mworkers, WorkerSet):\n\u001B[0;32m   1098\u001B[0m     \u001B[38;5;66;03m# Sync filters on workers.\u001B[39;00m\n",
      "File \u001B[1;32m~\\.conda\\envs\\RL-EVCP\\lib\\site-packages\\ray\\rllib\\agents\\trainer.py:1074\u001B[0m, in \u001B[0;36mTrainer.step\u001B[1;34m(self)\u001B[0m\n\u001B[0;32m   1071\u001B[0m \u001B[38;5;28;01mwhile\u001B[39;00m \u001B[38;5;129;01mnot\u001B[39;00m step_ctx\u001B[38;5;241m.\u001B[39mshould_stop(step_attempt_results):\n\u001B[0;32m   1072\u001B[0m     \u001B[38;5;66;03m# Try to train one step.\u001B[39;00m\n\u001B[0;32m   1073\u001B[0m     \u001B[38;5;28;01mtry\u001B[39;00m:\n\u001B[1;32m-> 1074\u001B[0m         step_attempt_results \u001B[38;5;241m=\u001B[39m \u001B[38;5;28;43mself\u001B[39;49m\u001B[38;5;241;43m.\u001B[39;49m\u001B[43mstep_attempt\u001B[49m\u001B[43m(\u001B[49m\u001B[43m)\u001B[49m\n\u001B[0;32m   1075\u001B[0m     \u001B[38;5;66;03m# @ray.remote RolloutWorker failure.\u001B[39;00m\n\u001B[0;32m   1076\u001B[0m     \u001B[38;5;28;01mexcept\u001B[39;00m RayError \u001B[38;5;28;01mas\u001B[39;00m e:\n\u001B[0;32m   1077\u001B[0m         \u001B[38;5;66;03m# Try to recover w/o the failed worker.\u001B[39;00m\n",
      "File \u001B[1;32m~\\.conda\\envs\\RL-EVCP\\lib\\site-packages\\ray\\rllib\\agents\\trainer.py:1155\u001B[0m, in \u001B[0;36mTrainer.step_attempt\u001B[1;34m(self)\u001B[0m\n\u001B[0;32m   1153\u001B[0m \u001B[38;5;66;03m# No evaluation necessary, just run the next training iteration.\u001B[39;00m\n\u001B[0;32m   1154\u001B[0m \u001B[38;5;28;01mif\u001B[39;00m \u001B[38;5;129;01mnot\u001B[39;00m evaluate_this_iter:\n\u001B[1;32m-> 1155\u001B[0m     step_results \u001B[38;5;241m=\u001B[39m \u001B[38;5;28;43mself\u001B[39;49m\u001B[38;5;241;43m.\u001B[39;49m\u001B[43m_exec_plan_or_training_iteration_fn\u001B[49m\u001B[43m(\u001B[49m\u001B[43m)\u001B[49m\n\u001B[0;32m   1156\u001B[0m \u001B[38;5;66;03m# We have to evaluate in this training iteration.\u001B[39;00m\n\u001B[0;32m   1157\u001B[0m \u001B[38;5;28;01melse\u001B[39;00m:\n\u001B[0;32m   1158\u001B[0m     \u001B[38;5;66;03m# No parallelism.\u001B[39;00m\n\u001B[0;32m   1159\u001B[0m     \u001B[38;5;28;01mif\u001B[39;00m \u001B[38;5;129;01mnot\u001B[39;00m \u001B[38;5;28mself\u001B[39m\u001B[38;5;241m.\u001B[39mconfig[\u001B[38;5;124m\"\u001B[39m\u001B[38;5;124mevaluation_parallel_to_training\u001B[39m\u001B[38;5;124m\"\u001B[39m]:\n",
      "File \u001B[1;32m~\\.conda\\envs\\RL-EVCP\\lib\\site-packages\\ray\\rllib\\agents\\trainer.py:2174\u001B[0m, in \u001B[0;36mTrainer._exec_plan_or_training_iteration_fn\u001B[1;34m(self)\u001B[0m\n\u001B[0;32m   2172\u001B[0m         results \u001B[38;5;241m=\u001B[39m \u001B[38;5;28mself\u001B[39m\u001B[38;5;241m.\u001B[39mtraining_iteration()\n\u001B[0;32m   2173\u001B[0m     \u001B[38;5;28;01melse\u001B[39;00m:\n\u001B[1;32m-> 2174\u001B[0m         results \u001B[38;5;241m=\u001B[39m \u001B[38;5;28;43mnext\u001B[39;49m\u001B[43m(\u001B[49m\u001B[38;5;28;43mself\u001B[39;49m\u001B[38;5;241;43m.\u001B[39;49m\u001B[43mtrain_exec_impl\u001B[49m\u001B[43m)\u001B[49m\n\u001B[0;32m   2175\u001B[0m \u001B[38;5;28;01mreturn\u001B[39;00m results\n",
      "File \u001B[1;32m~\\.conda\\envs\\RL-EVCP\\lib\\site-packages\\ray\\util\\iter.py:779\u001B[0m, in \u001B[0;36mLocalIterator.__next__\u001B[1;34m(self)\u001B[0m\n\u001B[0;32m    777\u001B[0m \u001B[38;5;28;01mdef\u001B[39;00m \u001B[38;5;21m__next__\u001B[39m(\u001B[38;5;28mself\u001B[39m):\n\u001B[0;32m    778\u001B[0m     \u001B[38;5;28mself\u001B[39m\u001B[38;5;241m.\u001B[39m_build_once()\n\u001B[1;32m--> 779\u001B[0m     \u001B[38;5;28;01mreturn\u001B[39;00m \u001B[38;5;28;43mnext\u001B[39;49m\u001B[43m(\u001B[49m\u001B[38;5;28;43mself\u001B[39;49m\u001B[38;5;241;43m.\u001B[39;49m\u001B[43mbuilt_iterator\u001B[49m\u001B[43m)\u001B[49m\n",
      "\u001B[1;31mStopIteration\u001B[0m: "
     ]
    }
   ],
   "source": [
    "from ray.tune.logger import pretty_print\n",
    "\n",
    "for i in range(100):\n",
    "    result = trainer.train()\n",
    "    # print(pretty_print(result))\n",
    "\n",
    "    print(i)\n",
    "    print(f\"episode_reward_max: {result['episode_reward_max']}\")\n",
    "    print(f\"episode_reward_min: {result['episode_reward_min']}\")\n",
    "    print(f\"episode_reward_mean: {result['episode_reward_mean']}\")\n",
    "\n",
    "    if i % 10 == 0:\n",
    "       checkpoint = trainer.save()\n",
    "       print(\"checkpoint saved at\", checkpoint)"
   ]
  },
  {
   "cell_type": "code",
   "execution_count": 9,
   "outputs": [
    {
     "name": "stdout",
     "output_type": "stream",
     "text": [
      "episode_reward_max: -7050.0\n",
      "episode_reward_min: -7050.0\n",
      "episode_reward_mean: -7050.0\n"
     ]
    }
   ],
   "source": [
    "print(f\"episode_reward_max: {result['episode_reward_max']}\")\n",
    "print(f\"episode_reward_min: {result['episode_reward_min']}\")\n",
    "print(f\"episode_reward_mean: {result['episode_reward_mean']}\")"
   ],
   "metadata": {
    "collapsed": false,
    "pycharm": {
     "name": "#%%\n"
    }
   }
  },
  {
   "cell_type": "code",
   "execution_count": null,
   "outputs": [],
   "source": [],
   "metadata": {
    "collapsed": false,
    "pycharm": {
     "name": "#%%\n"
    }
   }
  }
 ],
 "metadata": {
  "interpreter": {
   "hash": "1d7053eaf1f44e4ba09689f8d46ffe60bb595916505f14727b0e14a5d0bba04d"
  },
  "kernelspec": {
   "name": "rl-evcp",
   "language": "python",
   "display_name": "RL-EVCP"
  },
  "language_info": {
   "codemirror_mode": {
    "name": "ipython",
    "version": 3
   },
   "file_extension": ".py",
   "mimetype": "text/x-python",
   "name": "python",
   "nbconvert_exporter": "python",
   "pygments_lexer": "ipython3",
   "version": "3.9.6"
  },
  "orig_nbformat": 4
 },
 "nbformat": 4,
 "nbformat_minor": 2
}