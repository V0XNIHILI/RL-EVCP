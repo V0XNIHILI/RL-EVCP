{
 "cells": [
  {
   "cell_type": "code",
   "execution_count": 1,
   "id": "17c46327",
   "metadata": {},
   "outputs": [],
   "source": [
    "import os\n",
    "import sys\n",
    "from collections import defaultdict\n",
    "\n",
    "import matplotlib.pyplot as plt\n",
    "import numpy as np\n",
    "\n",
    "path_to_this_notebook = os.path.abspath('.')\n",
    "path_to_project = path_to_this_notebook[:path_to_this_notebook.find('note')]\n",
    "sys.path.append(path_to_project)\n",
    "\n",
    "%load_ext autoreload\n",
    "%autoreload 2"
   ]
  },
  {
   "cell_type": "code",
   "execution_count": 2,
   "id": "0e372283",
   "metadata": {},
   "outputs": [
    {
     "name": "stdout",
     "output_type": "stream",
     "text": [
      "USING DEVICE cpu\n"
     ]
    }
   ],
   "source": [
    "from src.td3_code.agents.td3 import TD3Agent\n",
    "from src.td3_code.memory.trajectory_replay_buffer import TrajectoryMemoryBuffer\n",
    "from src.td3_code.memory.transition_replay_buffer import TransitionMemoryBuffer\n",
    "from src.td3_code.runners.runner import Runner"
   ]
  },
  {
   "cell_type": "code",
   "execution_count": 3,
   "id": "0363b938",
   "metadata": {
    "scrolled": true
   },
   "outputs": [],
   "source": [
    "import numpy as np \n",
    "import gym\n",
    "\n",
    "env = gym.make(\"Pendulum-v1\")"
   ]
  },
  {
   "cell_type": "code",
   "execution_count": 4,
   "id": "ec8e93dd",
   "metadata": {},
   "outputs": [
    {
     "data": {
      "text/plain": [
       "(Box([-2.], [2.], (1,), float32),\n",
       " Box([-1. -1. -8.], [1. 1. 8.], (3,), float32))"
      ]
     },
     "execution_count": 4,
     "metadata": {},
     "output_type": "execute_result"
    }
   ],
   "source": [
    "env.action_space, env.observation_space"
   ]
  },
  {
   "cell_type": "code",
   "execution_count": 4,
   "id": "a0d93b85",
   "metadata": {},
   "outputs": [],
   "source": [
    "observation_dim = env.observation_space.shape[0]\n",
    "action_dim =  env.action_space.shape[0]\n",
    "max_action_value = env.action_space.high[0]\n",
    "scheme = {'observations': env.observation_space.shape, \n",
    "          'observations_next': env.observation_space.shape,\n",
    "          'actions': env.action_space.shape,\n",
    "          'done': (1, ), 'reward': (1, ), 'reset_mask': (1, )}"
   ]
  },
  {
   "cell_type": "markdown",
   "id": "6d2c4ab8",
   "metadata": {},
   "source": [
    "### Normal transitions"
   ]
  },
  {
   "cell_type": "code",
   "execution_count": 14,
   "id": "0bd57bb4",
   "metadata": {
    "scrolled": true
   },
   "outputs": [],
   "source": [
    "memory_trans = TransitionMemoryBuffer(scheme=scheme, max_size=int(1e6), min_size_to_sample=2000, \n",
    "                                      sample_during_episode=True)\n",
    "\n",
    "lstm_dims_list = []\n",
    "hidden_dims_list = [64, 64]\n",
    "\n",
    "agent = TD3Agent(observation_dim, action_dim, max_action_value, lstm_dims_list, hidden_dims_list,\n",
    "                 actor_lr=8e-4, critic_lr=8e-4,  discount=0.99, tau=0.005,\n",
    "                 policy_noise=0.2, noise_clip=0.5, policy_update_freq=2)\n",
    "\n",
    "runner = Runner(env, memory_trans, agent)"
   ]
  },
  {
   "cell_type": "code",
   "execution_count": 15,
   "id": "a6eefab4",
   "metadata": {
    "scrolled": true
   },
   "outputs": [
    {
     "name": "stdout",
     "output_type": "stream",
     "text": [
      "            EP1\n",
      "            EP2\n",
      "            EP3\n",
      "            EP4\n",
      "            EP5\n",
      "            EP6\n",
      "            EP7\n",
      "            EP8\n",
      "            EP9\n",
      "            EP10\n",
      "            EP11\n",
      "            EP12\n",
      "            EP13\n",
      "            EP14\n",
      "            EP15\n",
      "            EP16\n",
      "            EP17\n",
      "            EP18\n",
      "            EP19\n",
      "            EP20\n",
      "            EP21\n",
      "            EP22\n",
      "            EP23\n",
      "            EP24\n",
      "            EP25\n",
      "            EP26\n",
      "            EP27\n",
      "            EP28\n",
      "            EP29\n",
      "            EP30\n",
      "            EP31\n",
      "            EP32\n",
      "            EP33\n",
      "            EP34\n",
      "            EP35\n",
      "            EP36\n",
      "            EP37\n",
      "            EP38\n",
      "            EP39\n",
      "            EP40\n",
      "            EP41\n",
      "            EP42\n",
      "            EP43\n",
      "            EP44\n",
      "            EP45\n",
      "            EP46\n",
      "            EP47\n",
      "            EP48\n",
      "            EP49\n",
      "            EP50\n",
      "Training episode 50    \n",
      "    reward=-1305.63\n",
      "\n",
      "Test run after episode 50:\n",
      "    reward=-1261.79\n",
      "\n",
      "            EP51\n",
      "            EP52\n",
      "            EP53\n",
      "            EP54\n",
      "            EP55\n",
      "            EP56\n",
      "            EP57\n",
      "            EP58\n",
      "            EP59\n",
      "            EP60\n",
      "            EP61\n",
      "            EP62\n",
      "            EP63\n",
      "            EP64\n",
      "            EP65\n",
      "            EP66\n",
      "            EP67\n",
      "            EP68\n",
      "            EP69\n",
      "            EP70\n",
      "            EP71\n",
      "            EP72\n",
      "            EP73\n",
      "            EP74\n",
      "            EP75\n",
      "            EP76\n",
      "            EP77\n",
      "            EP78\n",
      "            EP79\n",
      "            EP80\n",
      "            EP81\n",
      "            EP82\n",
      "            EP83\n",
      "            EP84\n",
      "            EP85\n",
      "            EP86\n",
      "            EP87\n",
      "            EP88\n",
      "            EP89\n",
      "            EP90\n",
      "            EP91\n",
      "            EP92\n",
      "            EP93\n",
      "            EP94\n",
      "            EP95\n",
      "            EP96\n",
      "            EP97\n",
      "            EP98\n",
      "            EP99\n",
      "            EP100\n",
      "Training episode 100    \n",
      "    reward=-1147.26\n",
      "\n",
      "Test run after episode 100:\n",
      "    reward=-1163.99\n",
      "\n",
      "            EP101\n",
      "            EP102\n",
      "            EP103\n",
      "            EP104\n",
      "            EP105\n",
      "            EP106\n",
      "            EP107\n",
      "            EP108\n",
      "            EP109\n",
      "            EP110\n",
      "            EP111\n",
      "            EP112\n",
      "            EP113\n",
      "            EP114\n",
      "            EP115\n",
      "            EP116\n",
      "            EP117\n",
      "            EP118\n",
      "            EP119\n",
      "            EP120\n",
      "            EP121\n",
      "            EP122\n",
      "            EP123\n",
      "            EP124\n",
      "            EP125\n",
      "            EP126\n",
      "            EP127\n",
      "            EP128\n",
      "            EP129\n",
      "            EP130\n",
      "            EP131\n",
      "            EP132\n",
      "            EP133\n",
      "            EP134\n",
      "            EP135\n",
      "            EP136\n",
      "            EP137\n",
      "            EP138\n",
      "            EP139\n",
      "            EP140\n",
      "            EP141\n",
      "            EP142\n",
      "            EP143\n",
      "            EP144\n",
      "            EP145\n",
      "            EP146\n",
      "            EP147\n",
      "            EP148\n",
      "            EP149\n",
      "            EP150\n",
      "Training episode 150    \n",
      "    reward=-1095.29\n",
      "\n",
      "Test run after episode 150:\n",
      "    reward=-1090.75\n",
      "\n",
      "            EP151\n",
      "            EP152\n",
      "            EP153\n",
      "            EP154\n",
      "            EP155\n",
      "            EP156\n",
      "            EP157\n",
      "            EP158\n",
      "            EP159\n",
      "            EP160\n",
      "            EP161\n",
      "            EP162\n",
      "            EP163\n",
      "            EP164\n",
      "            EP165\n",
      "            EP166\n",
      "            EP167\n",
      "            EP168\n",
      "            EP169\n",
      "            EP170\n",
      "            EP171\n",
      "            EP172\n",
      "            EP173\n",
      "            EP174\n",
      "            EP175\n",
      "            EP176\n",
      "            EP177\n",
      "            EP178\n",
      "            EP179\n",
      "            EP180\n",
      "            EP181\n",
      "            EP182\n",
      "            EP183\n",
      "            EP184\n",
      "            EP185\n",
      "            EP186\n",
      "            EP187\n",
      "            EP188\n",
      "            EP189\n",
      "            EP190\n",
      "            EP191\n",
      "            EP192\n",
      "            EP193\n",
      "            EP194\n",
      "            EP195\n",
      "            EP196\n",
      "            EP197\n",
      "            EP198\n",
      "            EP199\n",
      "            EP200\n",
      "Training episode 200    \n",
      "    reward=-974.19\n",
      "\n",
      "Test run after episode 200:\n",
      "    reward=-932.36\n",
      "\n"
     ]
    }
   ],
   "source": [
    "batch_size = 16\n",
    "n_eps = 201\n",
    "print_each = 50\n",
    "test_each = 50\n",
    "n_test_episodes = 10\n",
    "\n",
    "keys_to_print = ['reward']\n",
    "train_results = defaultdict(list)\n",
    "test_results = defaultdict(list)\n",
    "\n",
    "for ep in range(1, n_eps):\n",
    "    episode_results = runner.run(train=True, save_to_memory=True, train_bath_size=batch_size)\n",
    "\n",
    "    for key, val in episode_results.items():\n",
    "        train_results[key].append(val)\n",
    "    \n",
    "    if ep % print_each == 0:\n",
    "        print('Training episode %d    ' % ep)\n",
    "\n",
    "        for key in keys_to_print:\n",
    "            print('    %s=%.2f' % (key, np.mean(train_results[key][-print_each:])))\n",
    "            \n",
    "        print()\n",
    "        \n",
    "    if ep % test_each == 0:\n",
    "        current_test_results = defaultdict(list)\n",
    "\n",
    "        for test_ep in range(n_test_episodes):\n",
    "            episode_results = runner.run(train=False, save_to_memory=False)\n",
    "\n",
    "            for key, val in episode_results.items():\n",
    "                current_test_results[key].append(val)\n",
    "\n",
    "        current_test_results = {key: np.mean(val) for key, val in current_test_results.items()}\n",
    "\n",
    "        for key, val in current_test_results.items():\n",
    "            test_results[key].append(val)\n",
    "            \n",
    "        print('Test run after episode %d:' % ep)\n",
    "\n",
    "        for key in keys_to_print:\n",
    "            print('    %s=%.2f' % (key, current_test_results[key]))\n",
    "\n",
    "        print()\n",
    "        "
   ]
  },
  {
   "cell_type": "code",
   "execution_count": 16,
   "id": "26d4e1d8",
   "metadata": {},
   "outputs": [
    {
     "data": {
      "text/plain": [
       "[<matplotlib.lines.Line2D at 0x18297e2b0>]"
      ]
     },
     "execution_count": 16,
     "metadata": {},
     "output_type": "execute_result"
    },
    {
     "data": {
      "image/png": "[encoded data removed]",
      "text/plain": [
       "<Figure size 432x288 with 1 Axes>"
      ]
     },
     "metadata": {
      "needs_background": "light"
     },
     "output_type": "display_data"
    }
   ],
   "source": [
    "plt.plot(train_results['reward'])"
   ]
  },
  {
   "cell_type": "markdown",
   "id": "76234e90",
   "metadata": {},
   "source": [
    "### Transitions from the Traj buffer"
   ]
  },
  {
   "cell_type": "code",
   "execution_count": 11,
   "id": "a702f012",
   "metadata": {},
   "outputs": [],
   "source": [
    "memory_traj_trans = TrajectoryMemoryBuffer(scheme=scheme, max_size=int(1e6/200), min_size_to_sample=10, \n",
    "                                          use_transitions=True, sample_during_episode=True)\n",
    "\n",
    "lstm_dims_list = []\n",
    "hidden_dims_list = [64, 64]\n",
    "\n",
    "agent = TD3Agent(observation_dim, action_dim, max_action_value, lstm_dims_list, hidden_dims_list,\n",
    "                 actor_lr=8e-4, critic_lr=8e-4,  discount=0.99, tau=0.005,\n",
    "                 policy_noise=0.2, noise_clip=0.5, policy_update_freq=2)\n",
    "\n",
    "runner = Runner(env, memory_traj_trans, agent)\n",
    "\n",
    "batch_size = 16"
   ]
  },
  {
   "cell_type": "code",
   "execution_count": 12,
   "id": "7ba1c54c",
   "metadata": {
    "scrolled": true
   },
   "outputs": [
    {
     "name": "stderr",
     "output_type": "stream",
     "text": [
      "/Users/douwe/Projects/temp/RL-EVCP/src/td3_code/runners/runner.py:27: UserWarning: To copy construct from a tensor, it is recommended to use sourceTensor.clone().detach() or sourceTensor.clone().detach().requires_grad_(True), rather than torch.tensor(sourceTensor).\n",
      "  rewards = torch.tensor(rewards, dtype=torch.float32).to(DEVICE)\n"
     ]
    },
    {
     "name": "stdout",
     "output_type": "stream",
     "text": [
      "Training episode 50    \n",
      "    reward=-1299.94\n",
      "\n",
      "Test run after episode 50:\n",
      "    reward=-1092.90\n",
      "\n",
      "Training episode 100    \n",
      "    reward=-984.32\n",
      "\n",
      "Test run after episode 100:\n",
      "    reward=-1019.17\n",
      "\n",
      "Training episode 150    \n",
      "    reward=-787.65\n",
      "\n",
      "Test run after episode 150:\n",
      "    reward=-759.41\n",
      "\n",
      "Training episode 200    \n",
      "    reward=-356.52\n",
      "\n",
      "Test run after episode 200:\n",
      "    reward=-159.81\n",
      "\n",
      "Training episode 250    \n",
      "    reward=-191.79\n",
      "\n",
      "Test run after episode 250:\n",
      "    reward=-199.83\n",
      "\n",
      "Training episode 300    \n",
      "    reward=-151.24\n",
      "\n",
      "Test run after episode 300:\n",
      "    reward=-159.12\n",
      "\n",
      "Training episode 350    \n",
      "    reward=-150.20\n",
      "\n",
      "Test run after episode 350:\n",
      "    reward=-146.14\n",
      "\n",
      "Training episode 400    \n",
      "    reward=-159.21\n",
      "\n",
      "Test run after episode 400:\n",
      "    reward=-152.54\n",
      "\n",
      "Training episode 450    \n",
      "    reward=-162.34\n",
      "\n",
      "Test run after episode 450:\n",
      "    reward=-188.70\n",
      "\n",
      "Training episode 500    \n",
      "    reward=-126.76\n",
      "\n",
      "Test run after episode 500:\n",
      "    reward=-155.33\n",
      "\n"
     ]
    }
   ],
   "source": [
    "n_eps = 501\n",
    "print_each = 50\n",
    "test_each = 50\n",
    "n_test_episodes = 10\n",
    "\n",
    "keys_to_print = ['reward']\n",
    "train_results = defaultdict(list)\n",
    "test_results = defaultdict(list)\n",
    "\n",
    "for ep in range(1, n_eps):\n",
    "    #print('            EP%d' % ep)\n",
    "    episode_results = runner.run(train=True, save_to_memory=True, train_bath_size=batch_size)\n",
    "    for key, val in episode_results.items():\n",
    "        train_results[key].append(val)\n",
    "    \n",
    "    if ep % print_each == 0:\n",
    "        print('Training episode %d    ' % ep)\n",
    "        for key in keys_to_print:\n",
    "            print('    %s=%.2f' % (key, np.mean(train_results[key][-print_each:])))\n",
    "        print()\n",
    "        \n",
    "    if ep % test_each == 0:\n",
    "        current_test_results = defaultdict(list)\n",
    "        for test_ep in range(n_test_episodes):\n",
    "            episode_results = runner.run(train=False, save_to_memory=False)\n",
    "            for key, val in episode_results.items():\n",
    "                current_test_results[key].append(val)\n",
    "        current_test_results = {key: np.mean(val) for key, val in current_test_results.items()}\n",
    "        for key, val in current_test_results.items():\n",
    "            test_results[key].append(val)\n",
    "            \n",
    "        print('Test run after episode %d:' % ep)\n",
    "        for key in keys_to_print:\n",
    "            print('    %s=%.2f' % (key, current_test_results[key]))\n",
    "        print()\n",
    "        "
   ]
  },
  {
   "cell_type": "code",
   "execution_count": 13,
   "id": "21ef3665",
   "metadata": {},
   "outputs": [
    {
     "data": {
      "text/plain": [
       "[<matplotlib.lines.Line2D at 0x17ee8e220>]"
      ]
     },
     "execution_count": 13,
     "metadata": {},
     "output_type": "execute_result"
    },
    {
     "data": {
      "image/png": "[encoded data removed]",
      "text/plain": [
       "<Figure size 432x288 with 1 Axes>"
      ]
     },
     "metadata": {
      "needs_background": "light"
     },
     "output_type": "display_data"
    }
   ],
   "source": [
    "plt.plot(test_results['reward'])"
   ]
  },
  {
   "cell_type": "markdown",
   "id": "0af490f3",
   "metadata": {},
   "source": [
    "###  Transitions from the Traj buffer, learning after episode"
   ]
  },
  {
   "cell_type": "code",
   "execution_count": null,
   "id": "61d9ba4c",
   "metadata": {},
   "outputs": [],
   "source": [
    "memory_trans = TransitionMemoryBuffer(scheme=scheme, max_size=int(1e6), min_size_to_sample=2000, \n",
    "                                      sample_during_episode=True)\n",
    "\n",
    "\n",
    "memory_traj = TrajectoryMemoryBuffer(scheme=scheme, max_size=int(1e6/200), min_size_to_sample=10, \n",
    "                                     use_transitions=False, sample_during_episode=False)\n",
    "\n",
    "memory_traj_trans = TrajectoryMemoryBuffer(scheme=scheme, max_size=int(1e6/200), min_size_to_sample=10, \n",
    "                                          use_transitions=True, sample_during_episode=False)\n",
    "\n",
    "\n",
    "\n",
    "lstm_dims_list = []\n",
    "hidden_dims_list = [64, 64]\n",
    "\n",
    "agent = TD3Agent(observation_dim, action_dim, max_action_value, lstm_dims_list, hidden_dims_list,\n",
    "                 actor_lr=8e-4, critic_lr=8e-4,  discount=0.99, tau=0.05,\n",
    "                 policy_noise=0.2, noise_clip=0.5, policy_update_freq=2)\n",
    "\n",
    "runner = Runner(env, memory_traj_trans, agent)\n",
    "\n",
    "batch_size =  512"
   ]
  },
  {
   "cell_type": "code",
   "execution_count": null,
   "id": "594af82b",
   "metadata": {
    "scrolled": true
   },
   "outputs": [],
   "source": [
    "n_eps = 2001\n",
    "print_each = 50\n",
    "test_each = 50\n",
    "n_test_episodes = 10\n",
    "\n",
    "keys_to_print = ['reward']\n",
    "train_results = defaultdict(list)\n",
    "test_results = defaultdict(list)\n",
    "\n",
    "for ep in range(1, n_eps):\n",
    "    #print('            EP%d' % ep)\n",
    "    episode_results = runner.run(train=True, save_to_memory=True, train_bath_size=batch_size)\n",
    "    for key, val in episode_results.items():\n",
    "        train_results[key].append(val)\n",
    "    \n",
    "    if ep % print_each == 0:\n",
    "        print('Training episode %d    ' % ep)\n",
    "        for key in keys_to_print:\n",
    "            print('    %s=%.2f' % (key, np.mean(train_results[key][-print_each:])))\n",
    "        print()\n",
    "        \n",
    "    if ep % test_each == 0:\n",
    "        current_test_results = defaultdict(list)\n",
    "        for test_ep in range(n_test_episodes):\n",
    "            episode_results = runner.run(train=False, save_to_memory=False)\n",
    "            for key, val in episode_results.items():\n",
    "                current_test_results[key].append(val)\n",
    "        current_test_results = {key: np.mean(val) for key, val in current_test_results.items()}\n",
    "        for key, val in current_test_results.items():\n",
    "            test_results[key].append(val)\n",
    "            \n",
    "        print('Test run after episode %d:' % ep)\n",
    "        for key in keys_to_print:\n",
    "            print('    %s=%.2f' % (key, current_test_results[key]))\n",
    "        print()\n",
    "        "
   ]
  },
  {
   "cell_type": "code",
   "execution_count": null,
   "id": "9b4e384d",
   "metadata": {},
   "outputs": [
    {
     "data": {
      "text/plain": [
       "[<matplotlib.lines.Line2D at 0x7f1a4f662310>]"
      ]
     },
     "execution_count": 18,
     "metadata": {},
     "output_type": "execute_result"
    },
    {
     "data": {
      "image/png": "[encoded data removed]",
      "text/plain": [
       "<Figure size 432x288 with 1 Axes>"
      ]
     },
     "metadata": {
      "needs_background": "light"
     },
     "output_type": "display_data"
    }
   ],
   "source": [
    "plt.plot(train_results['reward'])"
   ]
  },
  {
   "cell_type": "markdown",
   "id": "6e430aa0",
   "metadata": {},
   "source": [
    "###  Trajectories from the Traj buffer, learning after episode"
   ]
  },
  {
   "cell_type": "code",
   "execution_count": null,
   "id": "831d805e",
   "metadata": {
    "scrolled": true
   },
   "outputs": [],
   "source": [
    "memory_trans = TransitionMemoryBuffer(scheme=scheme, max_size=int(1e6), min_size_to_sample=2000, \n",
    "                                      sample_during_episode=True)\n",
    "\n",
    "\n",
    "memory_traj = TrajectoryMemoryBuffer(scheme=scheme, max_size=int(1e6/200), min_size_to_sample=10, \n",
    "                                     use_transitions=False, sample_during_episode=True)\n",
    "\n",
    "memory_traj_trans = TrajectoryMemoryBuffer(scheme=scheme, max_size=int(1e6/200), min_size_to_sample=10, \n",
    "                                          use_transitions=True, sample_during_episode=False)\n",
    "\n",
    "\n",
    "\n",
    "lstm_dims_list = [64]\n",
    "hidden_dims_list = [64]\n",
    "\n",
    "agent = TD3Agent(observation_dim, action_dim, max_action_value, lstm_dims_list, hidden_dims_list,\n",
    "                 actor_lr=8e-4, critic_lr=8e-4,  discount=0.99, tau=0.05,\n",
    "                 policy_noise=0.2, noise_clip=0.5, policy_update_freq=2)\n",
    "\n",
    "runner = Runner(env, memory_traj, agent)\n",
    "\n",
    "batch_size =  1"
   ]
  },
  {
   "cell_type": "code",
   "execution_count": null,
   "id": "6ca24e84",
   "metadata": {
    "scrolled": true
   },
   "outputs": [],
   "source": [
    "n_eps = 2001\n",
    "print_each = 5\n",
    "test_each = 50\n",
    "n_test_episodes = 10\n",
    "\n",
    "keys_to_print = ['reward']\n",
    "train_results = defaultdict(list)\n",
    "test_results = defaultdict(list)\n",
    "\n",
    "for ep in range(1, n_eps):\n",
    "    #print('            EP%d' % ep)\n",
    "    episode_results = runner.run(train=True, save_to_memory=True, train_bath_size=batch_size)\n",
    "    for key, val in episode_results.items():\n",
    "        train_results[key].append(val)\n",
    "    \n",
    "    if ep % print_each == 0:\n",
    "        print('Training episode %d    ' % ep)\n",
    "        for key in keys_to_print:\n",
    "            print('    %s=%.2f' % (key, np.mean(train_results[key][-print_each:])))\n",
    "        print()\n",
    "        \n",
    "    if ep % test_each == 0:\n",
    "        current_test_results = defaultdict(list)\n",
    "        for test_ep in range(n_test_episodes):\n",
    "            episode_results = runner.run(train=False, save_to_memory=False)\n",
    "            for key, val in episode_results.items():\n",
    "                current_test_results[key].append(val)\n",
    "        current_test_results = {key: np.mean(val) for key, val in current_test_results.items()}\n",
    "        for key, val in current_test_results.items():\n",
    "            test_results[key].append(val)\n",
    "            \n",
    "        print('Test run after episode %d:' % ep)\n",
    "        for key in keys_to_print:\n",
    "            print('    %s=%.2f' % (key, current_test_results[key]))\n",
    "        print()\n",
    "        "
   ]
  },
  {
   "cell_type": "code",
   "execution_count": null,
   "id": "3a19a23f",
   "metadata": {},
   "outputs": [],
   "source": [
    "plt.plot(train_results['reward'])"
   ]
  },
  {
   "cell_type": "code",
   "execution_count": null,
   "id": "b7a3b147",
   "metadata": {},
   "outputs": [],
   "source": [
    "plt.plot(train_results['reward'])"
   ]
  }
 ],
 "metadata": {
  "interpreter": {
   "hash": "aee8b7b246df8f9039afb4144a1f6fd8d2ca17a180786b69acc140d282b71a49"
  },
  "kernelspec": {
   "display_name": "Python 3.9.12 64-bit",
   "language": "python",
   "name": "python3"
  },
  "language_info": {
   "codemirror_mode": {
    "name": "ipython",
    "version": 3
   },
   "file_extension": ".py",
   "mimetype": "text/x-python",
   "name": "python",
   "nbconvert_exporter": "python",
   "pygments_lexer": "ipython3",
   "version": "3.9.12"
  }
 },
 "nbformat": 4,
 "nbformat_minor": 5
}
