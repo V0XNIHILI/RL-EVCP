{
 "cells": [
  {
   "cell_type": "code",
   "execution_count": 1,
   "id": "6b89a0a2",
   "metadata": {},
   "outputs": [],
   "source": [
    "import os\n",
    "import sys\n",
    "path_to_this_notebook = os.path.abspath('.')\n",
    "path_to_project = path_to_this_notebook[:path_to_this_notebook.find('note')]\n",
    "sys.path.append(path_to_project)\n",
    "import pandas as pd\n",
    "import matplotlib.pyplot as plt\n",
    "import numpy as np\n",
    "import pickle"
   ]
  },
  {
   "cell_type": "code",
   "execution_count": 2,
   "id": "9d1192e7",
   "metadata": {
    "scrolled": true
   },
   "outputs": [
    {
     "data": {
      "text/html": [
       "<div>\n",
       "<style scoped>\n",
       "    .dataframe tbody tr th:only-of-type {\n",
       "        vertical-align: middle;\n",
       "    }\n",
       "\n",
       "    .dataframe tbody tr th {\n",
       "        vertical-align: top;\n",
       "    }\n",
       "\n",
       "    .dataframe thead th {\n",
       "        text-align: right;\n",
       "    }\n",
       "</style>\n",
       "<table border=\"1\" class=\"dataframe\">\n",
       "  <thead>\n",
       "    <tr style=\"text-align: right;\">\n",
       "      <th></th>\n",
       "      <th>date_start</th>\n",
       "      <th>time_start</th>\n",
       "      <th>date_end</th>\n",
       "      <th>time_end</th>\n",
       "      <th>duration</th>\n",
       "      <th>charged</th>\n",
       "    </tr>\n",
       "  </thead>\n",
       "  <tbody>\n",
       "    <tr>\n",
       "      <th>0</th>\n",
       "      <td>2019-08-27</td>\n",
       "      <td>14:52</td>\n",
       "      <td>2019-08-27</td>\n",
       "      <td>17:58</td>\n",
       "      <td>3.11</td>\n",
       "      <td>9.86</td>\n",
       "    </tr>\n",
       "    <tr>\n",
       "      <th>1</th>\n",
       "      <td>2019-03-01</td>\n",
       "      <td>10:14</td>\n",
       "      <td>2019-03-01</td>\n",
       "      <td>13:13</td>\n",
       "      <td>3.00</td>\n",
       "      <td>9.38</td>\n",
       "    </tr>\n",
       "    <tr>\n",
       "      <th>2</th>\n",
       "      <td>2019-07-31</td>\n",
       "      <td>12:54</td>\n",
       "      <td>2019-07-31</td>\n",
       "      <td>13:21</td>\n",
       "      <td>0.46</td>\n",
       "      <td>1.45</td>\n",
       "    </tr>\n",
       "    <tr>\n",
       "      <th>3</th>\n",
       "      <td>2019-06-16</td>\n",
       "      <td>10:55</td>\n",
       "      <td>2019-06-16</td>\n",
       "      <td>14:35</td>\n",
       "      <td>3.65</td>\n",
       "      <td>38.77</td>\n",
       "    </tr>\n",
       "    <tr>\n",
       "      <th>4</th>\n",
       "      <td>2019-03-07</td>\n",
       "      <td>21:21</td>\n",
       "      <td>2019-03-08</td>\n",
       "      <td>07:22</td>\n",
       "      <td>10.03</td>\n",
       "      <td>26.14</td>\n",
       "    </tr>\n",
       "  </tbody>\n",
       "</table>\n",
       "</div>"
      ],
      "text/plain": [
       "   date_start time_start    date_end time_end  duration  charged\n",
       "0  2019-08-27      14:52  2019-08-27    17:58      3.11     9.86\n",
       "1  2019-03-01      10:14  2019-03-01    13:13      3.00     9.38\n",
       "2  2019-07-31      12:54  2019-07-31    13:21      0.46     1.45\n",
       "3  2019-06-16      10:55  2019-06-16    14:35      3.65    38.77\n",
       "4  2019-03-07      21:21  2019-03-08    07:22     10.03    26.14"
      ]
     },
     "execution_count": 2,
     "metadata": {},
     "output_type": "execute_result"
    }
   ],
   "source": [
    "path_to_data = path_to_project + '/data/elaadnl/'\n",
    "df = pd.read_excel(io=path_to_data + 'elaadnl_open_ev_datasets.xlsx', sheet_name='open_transactions')\n",
    "\n",
    "date_start = df['UTCTransactionStart'].apply(lambda x: str(x.date()))\n",
    "date_end = df['UTCTransactionStop'].apply(lambda x: str(x.date()))\n",
    "time_start = df['UTCTransactionStart'].apply(lambda x: str(x.time().replace(second=0))[:-3])\n",
    "time_end = df['UTCTransactionStop'].apply(lambda x: str(x.time().replace(second=0))[:-3])\n",
    "\n",
    "df['date_start'] = date_start\n",
    "df['date_end'] = date_end\n",
    "df['time_start'] = time_start\n",
    "df['time_end'] = time_end\n",
    "df = df.rename(columns={'ConnectedTime': 'duration', 'TotalEnergy': 'charged'}, )\n",
    "df = df[['date_start', 'time_start', 'date_end', 'time_end', 'duration', 'charged']]\n",
    "mask_keep = ~(df['duration'] > 24)\n",
    "df = df[mask_keep].reset_index(drop=True)\n",
    "df.head()"
   ]
  },
  {
   "cell_type": "code",
   "execution_count": 75,
   "id": "844b6865",
   "metadata": {},
   "outputs": [],
   "source": [
    "df.to_csv(path_to_data + '/charging_sessions.csv', index=None)"
   ]
  },
  {
   "cell_type": "code",
   "execution_count": 3,
   "id": "f34e8526",
   "metadata": {},
   "outputs": [],
   "source": [
    "def minutes_to_time_string(minutes):\n",
    "    hrs = minutes // 60\n",
    "    mins = minutes - hrs * 60\n",
    "    return ('0%d:' % hrs if hrs < 10 else '%d:' % hrs) + ('0%d' % mins if mins < 10 else '%d' % mins)\n",
    "dt = 1\n",
    "df_rescaled = df.copy()\n",
    "rescaling_map = {minutes_to_time_string(i * dt + j): minutes_to_time_string(i * dt)\n",
    "                         for i in range(int(24 * 60 / dt)) for j in range(dt)}\n",
    "all_times_hr = np.arange(0, 24, dt/60)\n",
    "all_times_str = [minutes_to_time_string(np.round(t * 60)) for t in all_times_hr]\n",
    "df_rescaled['time_start'] =  df['time_start'].apply(lambda x: rescaling_map[x])\n",
    "df_rescaled['time_end'] =  df['time_end'].apply(lambda x: rescaling_map[x])"
   ]
  },
  {
   "cell_type": "code",
   "execution_count": 7,
   "id": "4c1a437e",
   "metadata": {},
   "outputs": [],
   "source": [
    "value_counts_dict = df_rescaled['time_start'].value_counts()\n",
    "x, y = [], []\n",
    "for t in sorted(all_times_str): \n",
    "    x.append(t)\n",
    "    val = max(1, value_counts_dict[t] if t in value_counts_dict else 0)\n",
    "    y.append(val)\n",
    "#y_filtered = savgol_filter(y, 11, 5)"
   ]
  },
  {
   "cell_type": "code",
   "execution_count": 122,
   "id": "a2a4ecd2",
   "metadata": {
    "scrolled": false
   },
   "outputs": [
    {
     "data": {
      "image/png": "[encoded data removed]",
      "text/plain": [
       "<Figure size 864x432 with 1 Axes>"
      ]
     },
     "metadata": {
      "needs_background": "light"
     },
     "output_type": "display_data"
    }
   ],
   "source": [
    "from scipy.signal import savgol_filter\n",
    "_ = plt.figure(figsize=(12, 6))\n",
    "_ = plt.plot(x, y_filtered)\n",
    "_ = plt.plot(x, y)\n",
    "_ = plt.xticks(x[::120])"
   ]
  },
  {
   "cell_type": "code",
   "execution_count": 125,
   "id": "f6865fdb",
   "metadata": {
    "scrolled": true
   },
   "outputs": [
    {
     "data": {
      "image/png": "[encoded data removed]",
      "text/plain": [
       "<Figure size 432x288 with 1 Axes>"
      ]
     },
     "metadata": {
      "needs_background": "light"
     },
     "output_type": "display_data"
    }
   ],
   "source": [
    "t = '12:00'\n",
    "df_t  = df_rescaled[df_rescaled['time_start'] == t]\n",
    "dur = df_t['duration']\n",
    "p = df_t['charged']\n",
    "\n",
    "_ = plt.hist(dur)"
   ]
  },
  {
   "cell_type": "code",
   "execution_count": 14,
   "id": "6ecd7327",
   "metadata": {},
   "outputs": [],
   "source": [
    "metadata_dict = {'arrival_counts': {xi: yi for xi, yi in zip(x, y)}, }"
   ]
  },
  {
   "cell_type": "code",
   "execution_count": 16,
   "id": "e4d66cef",
   "metadata": {},
   "outputs": [],
   "source": [
    "with open(path_to_data + 'metadata_dict.pickle', 'wb') as f:\n",
    "    pickle.dump(metadata_dict, f, protocol=pickle.HIGHEST_PROTOCOL)"
   ]
  }
 ],
 "metadata": {
  "kernelspec": {
   "display_name": "Python 3 (ipykernel)",
   "language": "python",
   "name": "python3"
  },
  "language_info": {
   "codemirror_mode": {
    "name": "ipython",
    "version": 3
   },
   "file_extension": ".py",
   "mimetype": "text/x-python",
   "name": "python",
   "nbconvert_exporter": "python",
   "pygments_lexer": "ipython3",
   "version": "3.8.11"
  }
 },
 "nbformat": 4,
 "nbformat_minor": 5
}
