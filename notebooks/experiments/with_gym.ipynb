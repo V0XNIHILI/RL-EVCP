{
 "cells": [
  {
   "cell_type": "code",
   "execution_count": 1,
   "id": "17c46327",
   "metadata": {},
   "outputs": [],
   "source": [
    "import os\n",
    "import sys\n",
    "from collections import defaultdict\n",
    "\n",
    "import matplotlib.pyplot as plt\n",
    "import numpy as np\n",
    "\n",
    "path_to_this_notebook = os.path.abspath('../')\n",
    "path_to_project = path_to_this_notebook[:path_to_this_notebook.find('note')]\n",
    "sys.path.append(path_to_project)\n",
    "\n",
    "%load_ext autoreload\n",
    "%autoreload 2"
   ]
  },
  {
   "cell_type": "code",
   "execution_count": 2,
   "id": "0e372283",
   "metadata": {},
   "outputs": [
    {
     "name": "stdout",
     "output_type": "stream",
     "text": [
      "USING DEVICE cpu\n"
     ]
    }
   ],
   "source": [
    "from src.td3_code.agents.td3 import TD3Agent\n",
    "from src.td3_code.memory.trajectory_replay_buffer import TrajectoryMemoryBuffer\n",
    "from src.td3_code.memory.transition_replay_buffer import TransitionMemoryBuffer\n",
    "from src.td3_code.runners.runner import Runner"
   ]
  },
  {
   "cell_type": "code",
   "execution_count": 7,
   "id": "0363b938",
   "metadata": {
    "scrolled": true
   },
   "outputs": [],
   "source": [
    "import numpy as np \n",
    "import gym\n",
    "\n",
    "env = gym.make(\"Pendulum-v1\")"
   ]
  },
  {
   "cell_type": "code",
   "execution_count": 8,
   "id": "ec8e93dd",
   "metadata": {},
   "outputs": [
    {
     "data": {
      "text/plain": [
       "(Box([-2.], [2.], (1,), float32),\n",
       " Box([-1. -1. -8.], [1. 1. 8.], (3,), float32))"
      ]
     },
     "execution_count": 8,
     "metadata": {},
     "output_type": "execute_result"
    }
   ],
   "source": [
    "env.action_space, env.observation_space"
   ]
  },
  {
   "cell_type": "code",
   "execution_count": 9,
   "id": "a0d93b85",
   "metadata": {},
   "outputs": [],
   "source": [
    "observation_dim = env.observation_space.shape[0]\n",
    "action_dim =  env.action_space.shape[0]\n",
    "max_action_value = env.action_space.high[0]\n",
    "scheme = {'observations': env.observation_space.shape, \n",
    "          'observations_next': env.observation_space.shape,\n",
    "          'actions': env.action_space.shape,\n",
    "          'done': (1, ), 'reward': (1, ), 'reset_mask': (1, )}"
   ]
  },
  {
   "cell_type": "markdown",
   "id": "6d2c4ab8",
   "metadata": {},
   "source": [
    "### Normal transitions"
   ]
  },
  {
   "cell_type": "code",
   "execution_count": 10,
   "id": "0bd57bb4",
   "metadata": {
    "scrolled": true
   },
   "outputs": [],
   "source": [
    "memory_trans = TransitionMemoryBuffer(scheme=scheme, max_size=int(1e6), min_size_to_sample=2000, \n",
    "                                      sample_during_episode=True)\n",
    "\n",
    "memory_traj_trans = TrajectoryMemoryBuffer(scheme=scheme, max_size=int(1e6/200), min_size_to_sample=10, \n",
    "                                          use_transitions=True, sample_during_episode=True)\n",
    "\n",
    "lstm_dims_list = []\n",
    "hidden_dims_list = [64, 64]\n",
    "\n",
    "agent = TD3Agent(observation_dim, action_dim, max_action_value, lstm_dims_list, hidden_dims_list,\n",
    "                 actor_lr=8e-4, critic_lr=8e-4,  discount=0.99, tau=0.005,\n",
    "                 policy_noise=0.2, noise_clip=0.5, policy_update_freq=2)\n",
    "\n",
    "runner = Runner(env, memory_trans, agent)"
   ]
  },
  {
   "cell_type": "code",
   "execution_count": 11,
   "id": "a6eefab4",
   "metadata": {
    "scrolled": true
   },
   "outputs": [
    {
     "name": "stderr",
     "output_type": "stream",
     "text": [
      "/Users/douwe/Projects/temp/RL-EVCP/src/td3_code/runners/runner.py:27: UserWarning: To copy construct from a tensor, it is recommended to use sourceTensor.clone().detach() or sourceTensor.clone().detach().requires_grad_(True), rather than torch.tensor(sourceTensor).\n",
      "  rewards = torch.tensor(rewards, dtype=torch.float32).to(DEVICE)\n"
     ]
    },
    {
     "name": "stdout",
     "output_type": "stream",
     "text": [
      "Training episode 50    \n",
      "    reward=-1158.44\n",
      "\n",
      "Test run after episode 50:\n",
      "    reward=-799.87\n",
      "\n",
      "Training episode 100    \n",
      "    reward=-797.70\n",
      "\n",
      "Test run after episode 100:\n",
      "    reward=-676.61\n",
      "\n",
      "Training episode 150    \n",
      "    reward=-313.29\n",
      "\n",
      "Test run after episode 150:\n",
      "    reward=-181.01\n",
      "\n",
      "Training episode 200    \n",
      "    reward=-175.42\n",
      "\n",
      "Test run after episode 200:\n",
      "    reward=-184.23\n",
      "\n"
     ]
    }
   ],
   "source": [
    "batch_size = 16\n",
    "n_eps = 201\n",
    "print_each = 50\n",
    "test_each = 50\n",
    "n_test_episodes = 10\n",
    "\n",
    "keys_to_print = ['reward']\n",
    "train_results = defaultdict(list)\n",
    "test_results = defaultdict(list)\n",
    "\n",
    "for ep in range(1, n_eps):\n",
    "    episode_results = runner.run(train=True, save_to_memory=True, train_bath_size=batch_size)\n",
    "\n",
    "    for key, val in episode_results.items():\n",
    "        train_results[key].append(val)\n",
    "    \n",
    "    if ep % print_each == 0:\n",
    "        print('Training episode %d    ' % ep)\n",
    "\n",
    "        for key in keys_to_print:\n",
    "            print('    %s=%.2f' % (key, np.mean(train_results[key][-print_each:])))\n",
    "            \n",
    "        print()\n",
    "        \n",
    "    if ep % test_each == 0:\n",
    "        current_test_results = defaultdict(list)\n",
    "\n",
    "        for test_ep in range(n_test_episodes):\n",
    "            episode_results = runner.run(train=False, save_to_memory=False)\n",
    "\n",
    "            for key, val in episode_results.items():\n",
    "                current_test_results[key].append(val)\n",
    "\n",
    "        current_test_results = {key: np.mean(val) for key, val in current_test_results.items()}\n",
    "\n",
    "        for key, val in current_test_results.items():\n",
    "            test_results[key].append(val)\n",
    "            \n",
    "        print('Test run after episode %d:' % ep)\n",
    "\n",
    "        for key in keys_to_print:\n",
    "            print('    %s=%.2f' % (key, current_test_results[key]))\n",
    "\n",
    "        print()\n",
    "        "
   ]
  },
  {
   "cell_type": "code",
   "execution_count": 12,
   "id": "26d4e1d8",
   "metadata": {},
   "outputs": [
    {
     "data": {
      "text/plain": [
       "[<matplotlib.lines.Line2D at 0x17abfc4f0>]"
      ]
     },
     "execution_count": 12,
     "metadata": {},
     "output_type": "execute_result"
    },
    {
     "data": {
      "image/png": "[encoded data removed]",
      "text/plain": [
       "<Figure size 432x288 with 1 Axes>"
      ]
     },
     "metadata": {
      "needs_background": "light"
     },
     "output_type": "display_data"
    }
   ],
   "source": [
    "plt.plot(train_results['reward'])"
   ]
  },
  {
   "cell_type": "markdown",
   "id": "76234e90",
   "metadata": {},
   "source": [
    "### Transitions from the Traj buffer"
   ]
  },
  {
   "cell_type": "code",
   "execution_count": 13,
   "id": "a702f012",
   "metadata": {},
   "outputs": [],
   "source": [
    "memory_traj_trans = TrajectoryMemoryBuffer(scheme=scheme, max_size=int(1e6/200), min_size_to_sample=10, \n",
    "                                          use_transitions=True, sample_during_episode=True)\n",
    "\n",
    "lstm_dims_list = []\n",
    "hidden_dims_list = [64, 64]\n",
    "\n",
    "agent = TD3Agent(observation_dim, action_dim, max_action_value, lstm_dims_list, hidden_dims_list,\n",
    "                 actor_lr=8e-4, critic_lr=8e-4,  discount=0.99, tau=0.005,\n",
    "                 policy_noise=0.2, noise_clip=0.5, policy_update_freq=2)\n",
    "\n",
    "runner = Runner(env, memory_traj_trans, agent)\n",
    "\n",
    "batch_size = 16"
   ]
  },
  {
   "cell_type": "code",
   "execution_count": 14,
   "id": "7ba1c54c",
   "metadata": {
    "scrolled": true
   },
   "outputs": [
    {
     "name": "stdout",
     "output_type": "stream",
     "text": [
      "Training episode 50    \n",
      "    reward=-1353.49\n",
      "\n",
      "Test run after episode 50:\n",
      "    reward=-1055.15\n",
      "\n",
      "Training episode 100    \n",
      "    reward=-1147.12\n",
      "\n",
      "Test run after episode 100:\n",
      "    reward=-1086.26\n",
      "\n",
      "Training episode 150    \n",
      "    reward=-1046.95\n",
      "\n",
      "Test run after episode 150:\n",
      "    reward=-884.27\n",
      "\n",
      "Training episode 200    \n",
      "    reward=-930.32\n",
      "\n",
      "Test run after episode 200:\n",
      "    reward=-1050.79\n",
      "\n",
      "Training episode 250    \n",
      "    reward=-1030.44\n",
      "\n",
      "Test run after episode 250:\n",
      "    reward=-910.86\n",
      "\n",
      "Training episode 300    \n",
      "    reward=-910.54\n",
      "\n",
      "Test run after episode 300:\n",
      "    reward=-1038.12\n",
      "\n",
      "Training episode 350    \n",
      "    reward=-922.24\n",
      "\n",
      "Test run after episode 350:\n",
      "    reward=-907.13\n",
      "\n",
      "Training episode 400    \n",
      "    reward=-676.07\n",
      "\n",
      "Test run after episode 400:\n",
      "    reward=-189.63\n",
      "\n",
      "Training episode 450    \n",
      "    reward=-369.64\n",
      "\n",
      "Test run after episode 450:\n",
      "    reward=-271.31\n",
      "\n",
      "Training episode 500    \n",
      "    reward=-565.10\n",
      "\n",
      "Test run after episode 500:\n",
      "    reward=-603.48\n",
      "\n"
     ]
    }
   ],
   "source": [
    "n_eps = 501\n",
    "print_each = 50\n",
    "test_each = 50\n",
    "n_test_episodes = 10\n",
    "\n",
    "keys_to_print = ['reward']\n",
    "train_results = defaultdict(list)\n",
    "test_results = defaultdict(list)\n",
    "\n",
    "for ep in range(1, n_eps):\n",
    "    #print('            EP%d' % ep)\n",
    "    episode_results = runner.run(train=True, save_to_memory=True, train_bath_size=batch_size)\n",
    "    for key, val in episode_results.items():\n",
    "        train_results[key].append(val)\n",
    "    \n",
    "    if ep % print_each == 0:\n",
    "        print('Training episode %d    ' % ep)\n",
    "        for key in keys_to_print:\n",
    "            print('    %s=%.2f' % (key, np.mean(train_results[key][-print_each:])))\n",
    "        print()\n",
    "        \n",
    "    if ep % test_each == 0:\n",
    "        current_test_results = defaultdict(list)\n",
    "        for test_ep in range(n_test_episodes):\n",
    "            episode_results = runner.run(train=False, save_to_memory=False)\n",
    "            for key, val in episode_results.items():\n",
    "                current_test_results[key].append(val)\n",
    "        current_test_results = {key: np.mean(val) for key, val in current_test_results.items()}\n",
    "        for key, val in current_test_results.items():\n",
    "            test_results[key].append(val)\n",
    "            \n",
    "        print('Test run after episode %d:' % ep)\n",
    "        for key in keys_to_print:\n",
    "            print('    %s=%.2f' % (key, current_test_results[key]))\n",
    "        print()\n",
    "        "
   ]
  },
  {
   "cell_type": "code",
   "execution_count": 15,
   "id": "21ef3665",
   "metadata": {},
   "outputs": [
    {
     "data": {
      "text/plain": [
       "[<matplotlib.lines.Line2D at 0x181bff3a0>]"
      ]
     },
     "execution_count": 15,
     "metadata": {},
     "output_type": "execute_result"
    },
    {
     "data": {
      "image/png": "[encoded data removed]",
      "text/plain": [
       "<Figure size 432x288 with 1 Axes>"
      ]
     },
     "metadata": {
      "needs_background": "light"
     },
     "output_type": "display_data"
    }
   ],
   "source": [
    "plt.plot(test_results['reward'])"
   ]
  },
  {
   "cell_type": "markdown",
   "id": "0af490f3",
   "metadata": {},
   "source": [
    "###  Transitions from the Traj buffer, learning after episode"
   ]
  },
  {
   "cell_type": "code",
   "execution_count": 16,
   "id": "61d9ba4c",
   "metadata": {},
   "outputs": [],
   "source": [
    "memory_trans = TransitionMemoryBuffer(scheme=scheme, max_size=int(1e6), min_size_to_sample=2000, \n",
    "                                      sample_during_episode=True)\n",
    "\n",
    "\n",
    "memory_traj = TrajectoryMemoryBuffer(scheme=scheme, max_size=int(1e6/200), min_size_to_sample=10, \n",
    "                                     use_transitions=False, sample_during_episode=False)\n",
    "\n",
    "memory_traj_trans = TrajectoryMemoryBuffer(scheme=scheme, max_size=int(1e6/200), min_size_to_sample=10, \n",
    "                                          use_transitions=True, sample_during_episode=False)\n",
    "\n",
    "\n",
    "\n",
    "lstm_dims_list = []\n",
    "hidden_dims_list = [64, 64]\n",
    "\n",
    "agent = TD3Agent(observation_dim, action_dim, max_action_value, lstm_dims_list, hidden_dims_list,\n",
    "                 actor_lr=8e-4, critic_lr=8e-4,  discount=0.99, tau=0.05,\n",
    "                 policy_noise=0.2, noise_clip=0.5, policy_update_freq=2)\n",
    "\n",
    "runner = Runner(env, memory_traj_trans, agent)\n",
    "\n",
    "batch_size =  512"
   ]
  },
  {
   "cell_type": "code",
   "execution_count": 17,
   "id": "594af82b",
   "metadata": {
    "scrolled": true
   },
   "outputs": [
    {
     "name": "stdout",
     "output_type": "stream",
     "text": [
      "Training episode 50    \n",
      "    reward=-1407.28\n",
      "\n",
      "Test run after episode 50:\n",
      "    reward=-1684.79\n",
      "\n",
      "Training episode 100    \n",
      "    reward=-1663.41\n",
      "\n",
      "Test run after episode 100:\n",
      "    reward=-1591.06\n",
      "\n",
      "Training episode 150    \n",
      "    reward=-1552.23\n",
      "\n",
      "Test run after episode 150:\n",
      "    reward=-1377.90\n",
      "\n",
      "Training episode 200    \n",
      "    reward=-1378.12\n",
      "\n",
      "Test run after episode 200:\n",
      "    reward=-1288.64\n",
      "\n",
      "Training episode 250    \n",
      "    reward=-1271.07\n",
      "\n",
      "Test run after episode 250:\n",
      "    reward=-1296.31\n",
      "\n",
      "Training episode 300    \n",
      "    reward=-1235.50\n",
      "\n",
      "Test run after episode 300:\n",
      "    reward=-1307.48\n",
      "\n",
      "Training episode 350    \n",
      "    reward=-1236.45\n",
      "\n",
      "Test run after episode 350:\n",
      "    reward=-1142.11\n",
      "\n",
      "Training episode 400    \n",
      "    reward=-1230.18\n",
      "\n",
      "Test run after episode 400:\n",
      "    reward=-1196.03\n",
      "\n",
      "Training episode 450    \n",
      "    reward=-1251.55\n",
      "\n",
      "Test run after episode 450:\n",
      "    reward=-1242.51\n",
      "\n",
      "Training episode 500    \n",
      "    reward=-1313.54\n",
      "\n",
      "Test run after episode 500:\n",
      "    reward=-1323.67\n",
      "\n",
      "Training episode 550    \n",
      "    reward=-1333.49\n",
      "\n",
      "Test run after episode 550:\n",
      "    reward=-1358.59\n",
      "\n",
      "Training episode 600    \n",
      "    reward=-1349.49\n",
      "\n",
      "Test run after episode 600:\n",
      "    reward=-1342.12\n",
      "\n",
      "Training episode 650    \n",
      "    reward=-1339.06\n",
      "\n",
      "Test run after episode 650:\n",
      "    reward=-1326.90\n",
      "\n",
      "Training episode 700    \n",
      "    reward=-1309.65\n",
      "\n",
      "Test run after episode 700:\n",
      "    reward=-1233.23\n",
      "\n",
      "Training episode 750    \n",
      "    reward=-1298.00\n",
      "\n",
      "Test run after episode 750:\n",
      "    reward=-1095.72\n",
      "\n",
      "Training episode 800    \n",
      "    reward=-1237.85\n",
      "\n",
      "Test run after episode 800:\n",
      "    reward=-1253.89\n",
      "\n",
      "Training episode 850    \n",
      "    reward=-1230.14\n",
      "\n",
      "Test run after episode 850:\n",
      "    reward=-1209.86\n",
      "\n",
      "Training episode 900    \n",
      "    reward=-1172.29\n",
      "\n",
      "Test run after episode 900:\n",
      "    reward=-1080.66\n",
      "\n",
      "Training episode 950    \n",
      "    reward=-1148.78\n",
      "\n",
      "Test run after episode 950:\n",
      "    reward=-1289.10\n",
      "\n",
      "Training episode 1000    \n",
      "    reward=-1123.17\n",
      "\n",
      "Test run after episode 1000:\n",
      "    reward=-1030.17\n",
      "\n",
      "Training episode 1050    \n",
      "    reward=-1166.82\n",
      "\n",
      "Test run after episode 1050:\n",
      "    reward=-1262.65\n",
      "\n",
      "Training episode 1100    \n",
      "    reward=-1210.31\n",
      "\n",
      "Test run after episode 1100:\n",
      "    reward=-1164.95\n",
      "\n",
      "Training episode 1150    \n",
      "    reward=-1163.72\n",
      "\n",
      "Test run after episode 1150:\n",
      "    reward=-1100.09\n",
      "\n",
      "Training episode 1200    \n",
      "    reward=-1117.29\n",
      "\n",
      "Test run after episode 1200:\n",
      "    reward=-1040.96\n",
      "\n",
      "Training episode 1250    \n",
      "    reward=-1134.57\n",
      "\n",
      "Test run after episode 1250:\n",
      "    reward=-1032.95\n",
      "\n",
      "Training episode 1300    \n",
      "    reward=-1047.89\n",
      "\n",
      "Test run after episode 1300:\n",
      "    reward=-1020.28\n",
      "\n",
      "Training episode 1350    \n",
      "    reward=-1008.32\n",
      "\n",
      "Test run after episode 1350:\n",
      "    reward=-943.46\n",
      "\n",
      "Training episode 1400    \n",
      "    reward=-1085.14\n",
      "\n",
      "Test run after episode 1400:\n",
      "    reward=-1025.47\n",
      "\n",
      "Training episode 1450    \n",
      "    reward=-1083.71\n",
      "\n",
      "Test run after episode 1450:\n",
      "    reward=-1058.69\n",
      "\n",
      "Training episode 1500    \n",
      "    reward=-1062.27\n",
      "\n",
      "Test run after episode 1500:\n",
      "    reward=-1003.35\n",
      "\n",
      "Training episode 1550    \n",
      "    reward=-1032.70\n",
      "\n",
      "Test run after episode 1550:\n",
      "    reward=-1040.76\n",
      "\n",
      "Training episode 1600    \n",
      "    reward=-1047.12\n",
      "\n",
      "Test run after episode 1600:\n",
      "    reward=-963.16\n",
      "\n",
      "Training episode 1650    \n",
      "    reward=-961.19\n",
      "\n",
      "Test run after episode 1650:\n",
      "    reward=-887.29\n",
      "\n",
      "Training episode 1700    \n",
      "    reward=-961.33\n",
      "\n",
      "Test run after episode 1700:\n",
      "    reward=-971.53\n",
      "\n",
      "Training episode 1750    \n",
      "    reward=-890.50\n",
      "\n",
      "Test run after episode 1750:\n",
      "    reward=-924.80\n",
      "\n",
      "Training episode 1800    \n",
      "    reward=-900.67\n",
      "\n",
      "Test run after episode 1800:\n",
      "    reward=-912.82\n",
      "\n",
      "Training episode 1850    \n",
      "    reward=-917.68\n",
      "\n",
      "Test run after episode 1850:\n",
      "    reward=-973.91\n",
      "\n",
      "Training episode 1900    \n",
      "    reward=-925.37\n",
      "\n",
      "Test run after episode 1900:\n",
      "    reward=-867.03\n",
      "\n",
      "Training episode 1950    \n",
      "    reward=-909.57\n",
      "\n",
      "Test run after episode 1950:\n",
      "    reward=-807.48\n",
      "\n",
      "Training episode 2000    \n",
      "    reward=-918.26\n",
      "\n",
      "Test run after episode 2000:\n",
      "    reward=-995.21\n",
      "\n"
     ]
    }
   ],
   "source": [
    "n_eps = 2001\n",
    "print_each = 50\n",
    "test_each = 50\n",
    "n_test_episodes = 10\n",
    "\n",
    "keys_to_print = ['reward']\n",
    "train_results = defaultdict(list)\n",
    "test_results = defaultdict(list)\n",
    "\n",
    "for ep in range(1, n_eps):\n",
    "    #print('            EP%d' % ep)\n",
    "    episode_results = runner.run(train=True, save_to_memory=True, train_bath_size=batch_size)\n",
    "    for key, val in episode_results.items():\n",
    "        train_results[key].append(val)\n",
    "    \n",
    "    if ep % print_each == 0:\n",
    "        print('Training episode %d    ' % ep)\n",
    "        for key in keys_to_print:\n",
    "            print('    %s=%.2f' % (key, np.mean(train_results[key][-print_each:])))\n",
    "        print()\n",
    "        \n",
    "    if ep % test_each == 0:\n",
    "        current_test_results = defaultdict(list)\n",
    "        for test_ep in range(n_test_episodes):\n",
    "            episode_results = runner.run(train=False, save_to_memory=False)\n",
    "            for key, val in episode_results.items():\n",
    "                current_test_results[key].append(val)\n",
    "        current_test_results = {key: np.mean(val) for key, val in current_test_results.items()}\n",
    "        for key, val in current_test_results.items():\n",
    "            test_results[key].append(val)\n",
    "            \n",
    "        print('Test run after episode %d:' % ep)\n",
    "        for key in keys_to_print:\n",
    "            print('    %s=%.2f' % (key, current_test_results[key]))\n",
    "        print()\n",
    "        "
   ]
  },
  {
   "cell_type": "code",
   "execution_count": 18,
   "id": "9b4e384d",
   "metadata": {},
   "outputs": [
    {
     "data": {
      "text/plain": [
       "[<matplotlib.lines.Line2D at 0x1a94ec400>]"
      ]
     },
     "execution_count": 18,
     "metadata": {},
     "output_type": "execute_result"
    },
    {
     "data": {
      "image/png": "[encoded data removed]",
      "text/plain": [
       "<Figure size 432x288 with 1 Axes>"
      ]
     },
     "metadata": {
      "needs_background": "light"
     },
     "output_type": "display_data"
    }
   ],
   "source": [
    "plt.plot(train_results['reward'])"
   ]
  },
  {
   "cell_type": "markdown",
   "id": "6e430aa0",
   "metadata": {},
   "source": [
    "###  Trajectories from the Traj buffer, learning after episode"
   ]
  },
  {
   "cell_type": "code",
   "execution_count": 19,
   "id": "831d805e",
   "metadata": {
    "scrolled": true
   },
   "outputs": [],
   "source": [
    "memory_trans = TransitionMemoryBuffer(scheme=scheme, max_size=int(1e6), min_size_to_sample=2000, \n",
    "                                      sample_during_episode=True)\n",
    "\n",
    "\n",
    "memory_traj = TrajectoryMemoryBuffer(scheme=scheme, max_size=int(1e6/200), min_size_to_sample=10, \n",
    "                                     use_transitions=False, sample_during_episode=True)\n",
    "\n",
    "memory_traj_trans = TrajectoryMemoryBuffer(scheme=scheme, max_size=int(1e6/200), min_size_to_sample=10, \n",
    "                                          use_transitions=True, sample_during_episode=False)\n",
    "\n",
    "lstm_dims_list = [64]\n",
    "hidden_dims_list = [64]\n",
    "\n",
    "agent = TD3Agent(observation_dim, action_dim, max_action_value, lstm_dims_list, hidden_dims_list,\n",
    "                 actor_lr=8e-4, critic_lr=8e-4,  discount=0.99, tau=0.05,\n",
    "                 policy_noise=0.2, noise_clip=0.5, policy_update_freq=2)\n",
    "\n",
    "runner = Runner(env, memory_traj, agent)\n",
    "\n",
    "batch_size =  1"
   ]
  },
  {
   "cell_type": "code",
   "execution_count": null,
   "id": "6ca24e84",
   "metadata": {
    "scrolled": true
   },
   "outputs": [],
   "source": [
    "n_eps = 2001\n",
    "print_each = 5\n",
    "test_each = 50\n",
    "n_test_episodes = 10\n",
    "\n",
    "keys_to_print = ['reward']\n",
    "train_results = defaultdict(list)\n",
    "test_results = defaultdict(list)\n",
    "\n",
    "for ep in range(1, n_eps):\n",
    "    #print('            EP%d' % ep)\n",
    "    episode_results = runner.run(train=True, save_to_memory=True, train_bath_size=batch_size)\n",
    "    for key, val in episode_results.items():\n",
    "        train_results[key].append(val)\n",
    "    \n",
    "    if ep % print_each == 0:\n",
    "        print('Training episode %d    ' % ep)\n",
    "        for key in keys_to_print:\n",
    "            print('    %s=%.2f' % (key, np.mean(train_results[key][-print_each:])))\n",
    "        print()\n",
    "        \n",
    "    if ep % test_each == 0:\n",
    "        current_test_results = defaultdict(list)\n",
    "        for test_ep in range(n_test_episodes):\n",
    "            episode_results = runner.run(train=False, save_to_memory=False)\n",
    "            for key, val in episode_results.items():\n",
    "                current_test_results[key].append(val)\n",
    "        current_test_results = {key: np.mean(val) for key, val in current_test_results.items()}\n",
    "        for key, val in current_test_results.items():\n",
    "            test_results[key].append(val)\n",
    "            \n",
    "        print('Test run after episode %d:' % ep)\n",
    "        for key in keys_to_print:\n",
    "            print('    %s=%.2f' % (key, current_test_results[key]))\n",
    "        print()\n",
    "        "
   ]
  },
  {
   "cell_type": "code",
   "execution_count": null,
   "id": "3a19a23f",
   "metadata": {},
   "outputs": [],
   "source": [
    "plt.plot(train_results['reward'])"
   ]
  },
  {
   "cell_type": "code",
   "execution_count": null,
   "id": "b7a3b147",
   "metadata": {},
   "outputs": [],
   "source": [
    "plt.plot(train_results['reward'])"
   ]
  }
 ],
 "metadata": {
  "interpreter": {
   "hash": "aee8b7b246df8f9039afb4144a1f6fd8d2ca17a180786b69acc140d282b71a49"
  },
  "kernelspec": {
   "display_name": "Python 3.9.12 64-bit",
   "language": "python",
   "name": "python3"
  },
  "language_info": {
   "codemirror_mode": {
    "name": "ipython",
    "version": 3
   },
   "file_extension": ".py",
   "mimetype": "text/x-python",
   "name": "python",
   "nbconvert_exporter": "python",
   "pygments_lexer": "ipython3",
   "version": "3.9.12"
  }
 },
 "nbformat": 4,
 "nbformat_minor": 5
}
